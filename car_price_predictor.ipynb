{
 "cells": [
  {
   "cell_type": "markdown",
   "id": "21b1aab9",
   "metadata": {},
   "source": [
    "Written by Paweł Wolny"
   ]
  },
  {
   "cell_type": "markdown",
   "id": "d7597565",
   "metadata": {},
   "source": [
    "### Reading the data \n",
    "\n",
    "First we have to read our car sales data from the CSV file into a Pandas dataframe."
   ]
  },
  {
   "cell_type": "code",
   "execution_count": 1,
   "id": "7cd949ae",
   "metadata": {},
   "outputs": [],
   "source": [
    "import warnings\n",
    "warnings.simplefilter(action='ignore', category=FutureWarning)\n",
    "\n",
    "import pandas as pd\n",
    "import matplotlib.pyplot as plt\n",
    "\n",
    "\n",
    "# This line requires the car sales data to be located in a folder called data in the same directory as the notebook\n",
    "car_data = pd.read_csv(\"./data/car_sales.csv\", low_memory=False)"
   ]
  },
  {
   "cell_type": "markdown",
   "id": "4e1d84df",
   "metadata": {},
   "source": [
    "Now, let's take a first look at how our data looks like."
   ]
  },
  {
   "cell_type": "code",
   "execution_count": 2,
   "id": "a41c6c1b",
   "metadata": {
    "scrolled": true
   },
   "outputs": [
    {
     "data": {
      "text/html": [
       "<div>\n",
       "<style scoped>\n",
       "    .dataframe tbody tr th:only-of-type {\n",
       "        vertical-align: middle;\n",
       "    }\n",
       "\n",
       "    .dataframe tbody tr th {\n",
       "        vertical-align: top;\n",
       "    }\n",
       "\n",
       "    .dataframe thead th {\n",
       "        text-align: right;\n",
       "    }\n",
       "</style>\n",
       "<table border=\"1\" class=\"dataframe\">\n",
       "  <thead>\n",
       "    <tr style=\"text-align: right;\">\n",
       "      <th></th>\n",
       "      <th>Maker</th>\n",
       "      <th>Genmodel</th>\n",
       "      <th>Genmodel_ID</th>\n",
       "      <th>Adv_ID</th>\n",
       "      <th>Adv_year</th>\n",
       "      <th>Adv_month</th>\n",
       "      <th>Color</th>\n",
       "      <th>Reg_year</th>\n",
       "      <th>Bodytype</th>\n",
       "      <th>Runned_Miles</th>\n",
       "      <th>Engin_size</th>\n",
       "      <th>Gearbox</th>\n",
       "      <th>Fuel_type</th>\n",
       "      <th>Price</th>\n",
       "      <th>Seat_num</th>\n",
       "      <th>Door_num</th>\n",
       "    </tr>\n",
       "  </thead>\n",
       "  <tbody>\n",
       "    <tr>\n",
       "      <th>0</th>\n",
       "      <td>Bentley</td>\n",
       "      <td>Arnage</td>\n",
       "      <td>10_1</td>\n",
       "      <td>10_1$$1</td>\n",
       "      <td>2018</td>\n",
       "      <td>4</td>\n",
       "      <td>Silver</td>\n",
       "      <td>2000.0</td>\n",
       "      <td>Saloon</td>\n",
       "      <td>60000</td>\n",
       "      <td>6.8L</td>\n",
       "      <td>Automatic</td>\n",
       "      <td>Petrol</td>\n",
       "      <td>21500</td>\n",
       "      <td>5.0</td>\n",
       "      <td>4.0</td>\n",
       "    </tr>\n",
       "    <tr>\n",
       "      <th>1</th>\n",
       "      <td>Bentley</td>\n",
       "      <td>Arnage</td>\n",
       "      <td>10_1</td>\n",
       "      <td>10_1$$2</td>\n",
       "      <td>2018</td>\n",
       "      <td>6</td>\n",
       "      <td>Grey</td>\n",
       "      <td>2002.0</td>\n",
       "      <td>Saloon</td>\n",
       "      <td>44000</td>\n",
       "      <td>6.8L</td>\n",
       "      <td>Automatic</td>\n",
       "      <td>Petrol</td>\n",
       "      <td>28750</td>\n",
       "      <td>5.0</td>\n",
       "      <td>4.0</td>\n",
       "    </tr>\n",
       "    <tr>\n",
       "      <th>2</th>\n",
       "      <td>Bentley</td>\n",
       "      <td>Arnage</td>\n",
       "      <td>10_1</td>\n",
       "      <td>10_1$$3</td>\n",
       "      <td>2017</td>\n",
       "      <td>11</td>\n",
       "      <td>Blue</td>\n",
       "      <td>2002.0</td>\n",
       "      <td>Saloon</td>\n",
       "      <td>55000</td>\n",
       "      <td>6.8L</td>\n",
       "      <td>Automatic</td>\n",
       "      <td>Petrol</td>\n",
       "      <td>29999</td>\n",
       "      <td>5.0</td>\n",
       "      <td>4.0</td>\n",
       "    </tr>\n",
       "    <tr>\n",
       "      <th>3</th>\n",
       "      <td>Bentley</td>\n",
       "      <td>Arnage</td>\n",
       "      <td>10_1</td>\n",
       "      <td>10_1$$4</td>\n",
       "      <td>2018</td>\n",
       "      <td>4</td>\n",
       "      <td>Green</td>\n",
       "      <td>2003.0</td>\n",
       "      <td>Saloon</td>\n",
       "      <td>14000</td>\n",
       "      <td>6.8L</td>\n",
       "      <td>Automatic</td>\n",
       "      <td>Petrol</td>\n",
       "      <td>34948</td>\n",
       "      <td>5.0</td>\n",
       "      <td>4.0</td>\n",
       "    </tr>\n",
       "    <tr>\n",
       "      <th>4</th>\n",
       "      <td>Bentley</td>\n",
       "      <td>Arnage</td>\n",
       "      <td>10_1</td>\n",
       "      <td>10_1$$5</td>\n",
       "      <td>2017</td>\n",
       "      <td>11</td>\n",
       "      <td>Grey</td>\n",
       "      <td>2003.0</td>\n",
       "      <td>Saloon</td>\n",
       "      <td>61652</td>\n",
       "      <td>6.8L</td>\n",
       "      <td>Automatic</td>\n",
       "      <td>Petrol</td>\n",
       "      <td>26555</td>\n",
       "      <td>5.0</td>\n",
       "      <td>4.0</td>\n",
       "    </tr>\n",
       "  </tbody>\n",
       "</table>\n",
       "</div>"
      ],
      "text/plain": [
       "     Maker Genmodel Genmodel_ID   Adv_ID  Adv_year  Adv_month   Color  \\\n",
       "0  Bentley   Arnage        10_1  10_1$$1      2018          4  Silver   \n",
       "1  Bentley   Arnage        10_1  10_1$$2      2018          6    Grey   \n",
       "2  Bentley   Arnage        10_1  10_1$$3      2017         11    Blue   \n",
       "3  Bentley   Arnage        10_1  10_1$$4      2018          4   Green   \n",
       "4  Bentley   Arnage        10_1  10_1$$5      2017         11    Grey   \n",
       "\n",
       "   Reg_year Bodytype Runned_Miles Engin_size    Gearbox Fuel_type  Price  \\\n",
       "0    2000.0   Saloon        60000       6.8L  Automatic    Petrol  21500   \n",
       "1    2002.0   Saloon        44000       6.8L  Automatic    Petrol  28750   \n",
       "2    2002.0   Saloon        55000       6.8L  Automatic    Petrol  29999   \n",
       "3    2003.0   Saloon        14000       6.8L  Automatic    Petrol  34948   \n",
       "4    2003.0   Saloon        61652       6.8L  Automatic    Petrol  26555   \n",
       "\n",
       "   Seat_num  Door_num  \n",
       "0       5.0       4.0  \n",
       "1       5.0       4.0  \n",
       "2       5.0       4.0  \n",
       "3       5.0       4.0  \n",
       "4       5.0       4.0  "
      ]
     },
     "execution_count": 2,
     "metadata": {},
     "output_type": "execute_result"
    }
   ],
   "source": [
    "car_data.head()"
   ]
  },
  {
   "cell_type": "markdown",
   "id": "f537cc60",
   "metadata": {},
   "source": [
    "### Initial cleanup and analysis of the data\n",
    "\n",
    "For covenience, we will set all of the column names to lowercase."
   ]
  },
  {
   "cell_type": "code",
   "execution_count": 3,
   "id": "a8a1d44c",
   "metadata": {},
   "outputs": [],
   "source": [
    "car_data.columns = car_data.columns.str.lower()"
   ]
  },
  {
   "cell_type": "code",
   "execution_count": 4,
   "id": "5f1b4407",
   "metadata": {},
   "outputs": [
    {
     "name": "stdout",
     "output_type": "stream",
     "text": [
      "<class 'pandas.core.frame.DataFrame'>\n",
      "RangeIndex: 268255 entries, 0 to 268254\n",
      "Data columns (total 16 columns):\n",
      " #   Column        Non-Null Count   Dtype  \n",
      "---  ------        --------------   -----  \n",
      " 0   maker         268255 non-null  object \n",
      " 1   genmodel      268255 non-null  object \n",
      " 2   genmodel_id   268255 non-null  object \n",
      " 3   adv_id        268255 non-null  object \n",
      " 4   adv_year      268255 non-null  int64  \n",
      " 5   adv_month     268255 non-null  int64  \n",
      " 6   color         246380 non-null  object \n",
      " 7   reg_year      268248 non-null  float64\n",
      " 8   bodytype      267301 non-null  object \n",
      " 9   runned_miles  267200 non-null  object \n",
      " 10  engin_size    266191 non-null  object \n",
      " 11  gearbox       268088 non-null  object \n",
      " 12  fuel_type     267846 non-null  object \n",
      " 13  price         268255 non-null  object \n",
      " 14  seat_num      261781 non-null  float64\n",
      " 15  door_num      263702 non-null  float64\n",
      "dtypes: float64(3), int64(2), object(11)\n",
      "memory usage: 32.7+ MB\n"
     ]
    }
   ],
   "source": [
    "car_data.info()"
   ]
  },
  {
   "cell_type": "code",
   "execution_count": 5,
   "id": "21218d7d",
   "metadata": {},
   "outputs": [
    {
     "data": {
      "text/plain": [
       "(268255, 16)"
      ]
     },
     "execution_count": 5,
     "metadata": {},
     "output_type": "execute_result"
    }
   ],
   "source": [
    "car_data.shape"
   ]
  },
  {
   "cell_type": "markdown",
   "id": "a81f4f54",
   "metadata": {},
   "source": [
    "From the above we can see that our dataset consists of 16 columns and 268255 rows. Furthermore, we can see that we have 11 attributes of type *object*, 3 attributes of type *float64*, and 2 attributes of type *int64*. Straightaway we can drop columns **genmodel_id**, **adv_id**."
   ]
  },
  {
   "cell_type": "code",
   "execution_count": 6,
   "id": "12ab8a09",
   "metadata": {},
   "outputs": [],
   "source": [
    "car_data = car_data.drop(columns=[\"genmodel_id\", \"adv_id\"])"
   ]
  },
  {
   "cell_type": "markdown",
   "id": "c8f995b1",
   "metadata": {},
   "source": [
    "In a few cases, it seems that there has been a conversion issue while reading from the CSV file, as attributes such as **price** and **runned_miles** should be of numerical type instead of type *object*. Also, the *engine_size* attribute should be of numerical type, however in this case the automatic conversion to *object* type is due to the letter \"L\" appending the engine size in liters. We will fix these issues now. <br><br>\n",
    "\n",
    "First let's remove the appending \"L\" from the **engin_size** column and convert it to a float."
   ]
  },
  {
   "cell_type": "code",
   "execution_count": 7,
   "id": "ae5ef02c",
   "metadata": {},
   "outputs": [],
   "source": [
    "car_data[\"engin_size\"] = car_data[\"engin_size\"].str.rstrip('L').astype(float)"
   ]
  },
  {
   "cell_type": "markdown",
   "id": "e9527192",
   "metadata": {},
   "source": [
    "Now let's take care of the two other issues. After taking a closer look at the values in the **price** column, we can see that there are entries with value of \"Uknown\". This is the reason why the automatic conversion did not work. We will fix it now."
   ]
  },
  {
   "cell_type": "code",
   "execution_count": 8,
   "id": "6cd66c1a",
   "metadata": {},
   "outputs": [],
   "source": [
    "car_data[\"price\"] = pd.to_numeric(car_data[\"price\"], errors='coerce')"
   ]
  },
  {
   "cell_type": "markdown",
   "id": "c4dd8bfc",
   "metadata": {},
   "source": [
    "The **runned_miles** column seems to have empty entries, hence to fix it we will repeat the same procedure as above:"
   ]
  },
  {
   "cell_type": "code",
   "execution_count": 9,
   "id": "66c32962",
   "metadata": {
    "scrolled": false
   },
   "outputs": [],
   "source": [
    "car_data[\"runned_miles\"] = pd.to_numeric(car_data[\"runned_miles\"], errors='coerce')"
   ]
  },
  {
   "cell_type": "markdown",
   "id": "c66b0aa9",
   "metadata": {},
   "source": [
    "Let's now examine the summary of our dataset again."
   ]
  },
  {
   "cell_type": "code",
   "execution_count": 10,
   "id": "f04b700e",
   "metadata": {},
   "outputs": [
    {
     "name": "stdout",
     "output_type": "stream",
     "text": [
      "<class 'pandas.core.frame.DataFrame'>\n",
      "RangeIndex: 268255 entries, 0 to 268254\n",
      "Data columns (total 14 columns):\n",
      " #   Column        Non-Null Count   Dtype  \n",
      "---  ------        --------------   -----  \n",
      " 0   maker         268255 non-null  object \n",
      " 1   genmodel      268255 non-null  object \n",
      " 2   adv_year      268255 non-null  int64  \n",
      " 3   adv_month     268255 non-null  int64  \n",
      " 4   color         246380 non-null  object \n",
      " 5   reg_year      268248 non-null  float64\n",
      " 6   bodytype      267301 non-null  object \n",
      " 7   runned_miles  266942 non-null  float64\n",
      " 8   engin_size    266191 non-null  float64\n",
      " 9   gearbox       268088 non-null  object \n",
      " 10  fuel_type     267846 non-null  object \n",
      " 11  price         267110 non-null  float64\n",
      " 12  seat_num      261781 non-null  float64\n",
      " 13  door_num      263702 non-null  float64\n",
      "dtypes: float64(6), int64(2), object(6)\n",
      "memory usage: 28.7+ MB\n"
     ]
    }
   ],
   "source": [
    "car_data.info()"
   ]
  },
  {
   "cell_type": "markdown",
   "id": "281a2a9e",
   "metadata": {},
   "source": [
    "Now all the attributes that are numerical have a numerical data type. <br><br>\n",
    "\n",
    "As a next step, let's examine the null values in each column."
   ]
  },
  {
   "cell_type": "code",
   "execution_count": 11,
   "id": "3e943511",
   "metadata": {},
   "outputs": [
    {
     "data": {
      "text/plain": [
       "maker               0\n",
       "genmodel            0\n",
       "adv_year            0\n",
       "adv_month           0\n",
       "color           21875\n",
       "reg_year            7\n",
       "bodytype          954\n",
       "runned_miles     1313\n",
       "engin_size       2064\n",
       "gearbox           167\n",
       "fuel_type         409\n",
       "price            1145\n",
       "seat_num         6474\n",
       "door_num         4553\n",
       "dtype: int64"
      ]
     },
     "execution_count": 11,
     "metadata": {},
     "output_type": "execute_result"
    }
   ],
   "source": [
    "car_data.isnull().sum()"
   ]
  },
  {
   "cell_type": "markdown",
   "id": "a8cefb26",
   "metadata": {},
   "source": [
    "We can see that a majority of attributes has missing values. We will have to take care of it later. <br><br>\n",
    "\n",
    "Last but not least let's examine a summary of the numerical attributes."
   ]
  },
  {
   "cell_type": "code",
   "execution_count": 12,
   "id": "091f0731",
   "metadata": {},
   "outputs": [
    {
     "data": {
      "text/html": [
       "<div>\n",
       "<style scoped>\n",
       "    .dataframe tbody tr th:only-of-type {\n",
       "        vertical-align: middle;\n",
       "    }\n",
       "\n",
       "    .dataframe tbody tr th {\n",
       "        vertical-align: top;\n",
       "    }\n",
       "\n",
       "    .dataframe thead th {\n",
       "        text-align: right;\n",
       "    }\n",
       "</style>\n",
       "<table border=\"1\" class=\"dataframe\">\n",
       "  <thead>\n",
       "    <tr style=\"text-align: right;\">\n",
       "      <th></th>\n",
       "      <th>adv_year</th>\n",
       "      <th>adv_month</th>\n",
       "      <th>reg_year</th>\n",
       "      <th>runned_miles</th>\n",
       "      <th>engin_size</th>\n",
       "      <th>price</th>\n",
       "      <th>seat_num</th>\n",
       "      <th>door_num</th>\n",
       "    </tr>\n",
       "  </thead>\n",
       "  <tbody>\n",
       "    <tr>\n",
       "      <th>count</th>\n",
       "      <td>268255.000000</td>\n",
       "      <td>268255.000000</td>\n",
       "      <td>268248.000000</td>\n",
       "      <td>2.669420e+05</td>\n",
       "      <td>266191.000000</td>\n",
       "      <td>2.671100e+05</td>\n",
       "      <td>261781.000000</td>\n",
       "      <td>263702.000000</td>\n",
       "    </tr>\n",
       "    <tr>\n",
       "      <th>mean</th>\n",
       "      <td>2018.127778</td>\n",
       "      <td>5.626143</td>\n",
       "      <td>2012.708430</td>\n",
       "      <td>4.816993e+04</td>\n",
       "      <td>1.963554</td>\n",
       "      <td>1.475626e+04</td>\n",
       "      <td>4.904306</td>\n",
       "      <td>4.371594</td>\n",
       "    </tr>\n",
       "    <tr>\n",
       "      <th>std</th>\n",
       "      <td>0.747476</td>\n",
       "      <td>2.091577</td>\n",
       "      <td>4.465705</td>\n",
       "      <td>4.184823e+04</td>\n",
       "      <td>9.362173</td>\n",
       "      <td>3.232091e+04</td>\n",
       "      <td>0.877934</td>\n",
       "      <td>1.009339</td>\n",
       "    </tr>\n",
       "    <tr>\n",
       "      <th>min</th>\n",
       "      <td>2012.000000</td>\n",
       "      <td>1.000000</td>\n",
       "      <td>1900.000000</td>\n",
       "      <td>0.000000e+00</td>\n",
       "      <td>0.100000</td>\n",
       "      <td>1.000000e+02</td>\n",
       "      <td>1.000000</td>\n",
       "      <td>0.000000</td>\n",
       "    </tr>\n",
       "    <tr>\n",
       "      <th>25%</th>\n",
       "      <td>2018.000000</td>\n",
       "      <td>4.000000</td>\n",
       "      <td>2010.000000</td>\n",
       "      <td>1.416000e+04</td>\n",
       "      <td>1.400000</td>\n",
       "      <td>4.990000e+03</td>\n",
       "      <td>5.000000</td>\n",
       "      <td>4.000000</td>\n",
       "    </tr>\n",
       "    <tr>\n",
       "      <th>50%</th>\n",
       "      <td>2018.000000</td>\n",
       "      <td>5.000000</td>\n",
       "      <td>2014.000000</td>\n",
       "      <td>3.929650e+04</td>\n",
       "      <td>1.800000</td>\n",
       "      <td>9.299000e+03</td>\n",
       "      <td>5.000000</td>\n",
       "      <td>5.000000</td>\n",
       "    </tr>\n",
       "    <tr>\n",
       "      <th>75%</th>\n",
       "      <td>2018.000000</td>\n",
       "      <td>7.000000</td>\n",
       "      <td>2016.000000</td>\n",
       "      <td>7.500000e+04</td>\n",
       "      <td>2.000000</td>\n",
       "      <td>1.715000e+04</td>\n",
       "      <td>5.000000</td>\n",
       "      <td>5.000000</td>\n",
       "    </tr>\n",
       "    <tr>\n",
       "      <th>max</th>\n",
       "      <td>2021.000000</td>\n",
       "      <td>33.000000</td>\n",
       "      <td>2019.000000</td>\n",
       "      <td>6.363342e+06</td>\n",
       "      <td>3500.000000</td>\n",
       "      <td>9.999999e+06</td>\n",
       "      <td>17.000000</td>\n",
       "      <td>7.000000</td>\n",
       "    </tr>\n",
       "  </tbody>\n",
       "</table>\n",
       "</div>"
      ],
      "text/plain": [
       "            adv_year      adv_month       reg_year  runned_miles  \\\n",
       "count  268255.000000  268255.000000  268248.000000  2.669420e+05   \n",
       "mean     2018.127778       5.626143    2012.708430  4.816993e+04   \n",
       "std         0.747476       2.091577       4.465705  4.184823e+04   \n",
       "min      2012.000000       1.000000    1900.000000  0.000000e+00   \n",
       "25%      2018.000000       4.000000    2010.000000  1.416000e+04   \n",
       "50%      2018.000000       5.000000    2014.000000  3.929650e+04   \n",
       "75%      2018.000000       7.000000    2016.000000  7.500000e+04   \n",
       "max      2021.000000      33.000000    2019.000000  6.363342e+06   \n",
       "\n",
       "          engin_size         price       seat_num       door_num  \n",
       "count  266191.000000  2.671100e+05  261781.000000  263702.000000  \n",
       "mean        1.963554  1.475626e+04       4.904306       4.371594  \n",
       "std         9.362173  3.232091e+04       0.877934       1.009339  \n",
       "min         0.100000  1.000000e+02       1.000000       0.000000  \n",
       "25%         1.400000  4.990000e+03       5.000000       4.000000  \n",
       "50%         1.800000  9.299000e+03       5.000000       5.000000  \n",
       "75%         2.000000  1.715000e+04       5.000000       5.000000  \n",
       "max      3500.000000  9.999999e+06      17.000000       7.000000  "
      ]
     },
     "execution_count": 12,
     "metadata": {},
     "output_type": "execute_result"
    }
   ],
   "source": [
    "car_data.describe()"
   ]
  },
  {
   "cell_type": "markdown",
   "id": "b1ea9c98",
   "metadata": {},
   "source": [
    "### Removing the outliers\n",
    "Now let's do some visualisations of our dataset to gain more insights into our data. We are going to start with a boxplot for all numerical attributes of our dataset."
   ]
  },
  {
   "cell_type": "code",
   "execution_count": 13,
   "id": "158e5598",
   "metadata": {},
   "outputs": [
    {
     "data": {
      "image/png": "[encoded data removed]",
      "text/plain": [
       "<Figure size 1200x2000 with 8 Axes>"
      ]
     },
     "metadata": {},
     "output_type": "display_data"
    }
   ],
   "source": [
    "numerical_columns = car_data.select_dtypes(include=['float64', 'int64'])\n",
    "\n",
    "num_columns = len(numerical_columns.columns)\n",
    "num_rows = (num_columns // 2) + (num_columns % 2)\n",
    "\n",
    "plt.figure(figsize=(12, 5 * num_rows))\n",
    "\n",
    "for i, column in enumerate(numerical_columns.columns, 1):\n",
    "    plt.subplot(num_rows, 2, i)\n",
    "    plt.boxplot(car_data[column].dropna())\n",
    "    plt.title(column)\n",
    "\n",
    "plt.tight_layout()\n",
    "plt.show()"
   ]
  },
  {
   "cell_type": "markdown",
   "id": "9030835c",
   "metadata": {},
   "source": [
    "Looking at the figures above, we can already see that we have some odd-looking outliers in **adv_month**, **price**, **engine_size**, and **seat_num**. As for the first three attributes they are definietly outliers as the numbers just don't make sense, the last one actually does not have any outliers. It turns out that the 17 seats belong to the Mercedes Sprinter Minibus so we are good with this one. However, we have to take care of the other outliers."
   ]
  },
  {
   "cell_type": "markdown",
   "id": "80e5efd0",
   "metadata": {},
   "source": [
    "Let's start with **adv_month**. We will check how many values exceeding 12 do we actually have."
   ]
  },
  {
   "cell_type": "code",
   "execution_count": 14,
   "id": "3a07f884",
   "metadata": {},
   "outputs": [
    {
     "data": {
      "text/html": [
       "<div>\n",
       "<style scoped>\n",
       "    .dataframe tbody tr th:only-of-type {\n",
       "        vertical-align: middle;\n",
       "    }\n",
       "\n",
       "    .dataframe tbody tr th {\n",
       "        vertical-align: top;\n",
       "    }\n",
       "\n",
       "    .dataframe thead th {\n",
       "        text-align: right;\n",
       "    }\n",
       "</style>\n",
       "<table border=\"1\" class=\"dataframe\">\n",
       "  <thead>\n",
       "    <tr style=\"text-align: right;\">\n",
       "      <th></th>\n",
       "      <th>maker</th>\n",
       "      <th>genmodel</th>\n",
       "      <th>adv_year</th>\n",
       "      <th>adv_month</th>\n",
       "      <th>color</th>\n",
       "      <th>reg_year</th>\n",
       "      <th>bodytype</th>\n",
       "      <th>runned_miles</th>\n",
       "      <th>engin_size</th>\n",
       "      <th>gearbox</th>\n",
       "      <th>fuel_type</th>\n",
       "      <th>price</th>\n",
       "      <th>seat_num</th>\n",
       "      <th>door_num</th>\n",
       "    </tr>\n",
       "  </thead>\n",
       "  <tbody>\n",
       "    <tr>\n",
       "      <th>46560</th>\n",
       "      <td>Ford</td>\n",
       "      <td>Streetka</td>\n",
       "      <td>2012</td>\n",
       "      <td>13</td>\n",
       "      <td>Blue</td>\n",
       "      <td>2005.0</td>\n",
       "      <td>Convertible</td>\n",
       "      <td>22000.0</td>\n",
       "      <td>1.6</td>\n",
       "      <td>Manual</td>\n",
       "      <td>Petrol</td>\n",
       "      <td>2999.0</td>\n",
       "      <td>2.0</td>\n",
       "      <td>2.0</td>\n",
       "    </tr>\n",
       "    <tr>\n",
       "      <th>135473</th>\n",
       "      <td>Peugeot</td>\n",
       "      <td>407</td>\n",
       "      <td>2012</td>\n",
       "      <td>17</td>\n",
       "      <td>Blue</td>\n",
       "      <td>2006.0</td>\n",
       "      <td>Coupe</td>\n",
       "      <td>77000.0</td>\n",
       "      <td>2.7</td>\n",
       "      <td>Automatic</td>\n",
       "      <td>Diesel</td>\n",
       "      <td>4499.0</td>\n",
       "      <td>4.0</td>\n",
       "      <td>2.0</td>\n",
       "    </tr>\n",
       "    <tr>\n",
       "      <th>154764</th>\n",
       "      <td>Rolls-Royce</td>\n",
       "      <td>Phantom</td>\n",
       "      <td>2012</td>\n",
       "      <td>33</td>\n",
       "      <td>Black</td>\n",
       "      <td>2007.0</td>\n",
       "      <td>Saloon</td>\n",
       "      <td>20000.0</td>\n",
       "      <td>6.7</td>\n",
       "      <td>Automatic</td>\n",
       "      <td>Petrol</td>\n",
       "      <td>116065.0</td>\n",
       "      <td>5.0</td>\n",
       "      <td>NaN</td>\n",
       "    </tr>\n",
       "  </tbody>\n",
       "</table>\n",
       "</div>"
      ],
      "text/plain": [
       "              maker  genmodel  adv_year  adv_month  color  reg_year  \\\n",
       "46560          Ford  Streetka      2012         13   Blue    2005.0   \n",
       "135473      Peugeot       407      2012         17   Blue    2006.0   \n",
       "154764  Rolls-Royce   Phantom      2012         33  Black    2007.0   \n",
       "\n",
       "           bodytype  runned_miles  engin_size    gearbox fuel_type     price  \\\n",
       "46560   Convertible       22000.0         1.6     Manual    Petrol    2999.0   \n",
       "135473        Coupe       77000.0         2.7  Automatic    Diesel    4499.0   \n",
       "154764       Saloon       20000.0         6.7  Automatic    Petrol  116065.0   \n",
       "\n",
       "        seat_num  door_num  \n",
       "46560        2.0       2.0  \n",
       "135473       4.0       2.0  \n",
       "154764       5.0       NaN  "
      ]
     },
     "execution_count": 14,
     "metadata": {},
     "output_type": "execute_result"
    }
   ],
   "source": [
    "car_data[car_data[\"adv_month\"] > 12]"
   ]
  },
  {
   "cell_type": "markdown",
   "id": "87f9779f",
   "metadata": {},
   "source": [
    "For this one it seems reasonable to fill the corrupted **adv_month** values with the most frequent value for that column."
   ]
  },
  {
   "cell_type": "code",
   "execution_count": 15,
   "id": "b02f72b6",
   "metadata": {},
   "outputs": [],
   "source": [
    "most_frequent_value = car_data[\"adv_month\"].mode().iloc[0]\n",
    "car_data[\"adv_month\"] = car_data[\"adv_month\"].map(lambda x: most_frequent_value if x > 12 else x)"
   ]
  },
  {
   "cell_type": "markdown",
   "id": "95aeb95c",
   "metadata": {},
   "source": [
    "Now let's take care of the **price** column."
   ]
  },
  {
   "cell_type": "code",
   "execution_count": 16,
   "id": "4fc8dad0",
   "metadata": {
    "scrolled": true
   },
   "outputs": [
    {
     "data": {
      "text/html": [
       "<div>\n",
       "<style scoped>\n",
       "    .dataframe tbody tr th:only-of-type {\n",
       "        vertical-align: middle;\n",
       "    }\n",
       "\n",
       "    .dataframe tbody tr th {\n",
       "        vertical-align: top;\n",
       "    }\n",
       "\n",
       "    .dataframe thead th {\n",
       "        text-align: right;\n",
       "    }\n",
       "</style>\n",
       "<table border=\"1\" class=\"dataframe\">\n",
       "  <thead>\n",
       "    <tr style=\"text-align: right;\">\n",
       "      <th></th>\n",
       "      <th>maker</th>\n",
       "      <th>genmodel</th>\n",
       "      <th>adv_year</th>\n",
       "      <th>adv_month</th>\n",
       "      <th>color</th>\n",
       "      <th>reg_year</th>\n",
       "      <th>bodytype</th>\n",
       "      <th>runned_miles</th>\n",
       "      <th>engin_size</th>\n",
       "      <th>gearbox</th>\n",
       "      <th>fuel_type</th>\n",
       "      <th>price</th>\n",
       "      <th>seat_num</th>\n",
       "      <th>door_num</th>\n",
       "    </tr>\n",
       "  </thead>\n",
       "  <tbody>\n",
       "    <tr>\n",
       "      <th>104958</th>\n",
       "      <td>McLaren</td>\n",
       "      <td>675LT</td>\n",
       "      <td>2017</td>\n",
       "      <td>6</td>\n",
       "      <td>Silver</td>\n",
       "      <td>2016.0</td>\n",
       "      <td>Coupe</td>\n",
       "      <td>200.0</td>\n",
       "      <td>3.8</td>\n",
       "      <td>Automatic</td>\n",
       "      <td>Petrol</td>\n",
       "      <td>9999999.0</td>\n",
       "      <td>2.0</td>\n",
       "      <td>2.0</td>\n",
       "    </tr>\n",
       "    <tr>\n",
       "      <th>14460</th>\n",
       "      <td>Ferrari</td>\n",
       "      <td>Laferrari</td>\n",
       "      <td>2018</td>\n",
       "      <td>3</td>\n",
       "      <td>Red</td>\n",
       "      <td>2014.0</td>\n",
       "      <td>Coupe</td>\n",
       "      <td>1824.0</td>\n",
       "      <td>6.3</td>\n",
       "      <td>NaN</td>\n",
       "      <td>NaN</td>\n",
       "      <td>2599990.0</td>\n",
       "      <td>2.0</td>\n",
       "      <td>NaN</td>\n",
       "    </tr>\n",
       "    <tr>\n",
       "      <th>14462</th>\n",
       "      <td>Ferrari</td>\n",
       "      <td>Laferrari</td>\n",
       "      <td>2018</td>\n",
       "      <td>4</td>\n",
       "      <td>Red</td>\n",
       "      <td>2014.0</td>\n",
       "      <td>Coupe</td>\n",
       "      <td>1502.0</td>\n",
       "      <td>NaN</td>\n",
       "      <td>NaN</td>\n",
       "      <td>Petrol</td>\n",
       "      <td>2500000.0</td>\n",
       "      <td>2.0</td>\n",
       "      <td>NaN</td>\n",
       "    </tr>\n",
       "    <tr>\n",
       "      <th>105002</th>\n",
       "      <td>McLaren</td>\n",
       "      <td>P1</td>\n",
       "      <td>2021</td>\n",
       "      <td>4</td>\n",
       "      <td>Yellow</td>\n",
       "      <td>2019.0</td>\n",
       "      <td>Coupe</td>\n",
       "      <td>600.0</td>\n",
       "      <td>3.8</td>\n",
       "      <td>Automatic</td>\n",
       "      <td>Petrol Plug-in Hybrid</td>\n",
       "      <td>2490000.0</td>\n",
       "      <td>2.0</td>\n",
       "      <td>2.0</td>\n",
       "    </tr>\n",
       "    <tr>\n",
       "      <th>14276</th>\n",
       "      <td>Ferrari</td>\n",
       "      <td>Enzo</td>\n",
       "      <td>2018</td>\n",
       "      <td>3</td>\n",
       "      <td>Red</td>\n",
       "      <td>2004.0</td>\n",
       "      <td>Coupe</td>\n",
       "      <td>7620.0</td>\n",
       "      <td>6.0</td>\n",
       "      <td>NaN</td>\n",
       "      <td>Petrol</td>\n",
       "      <td>2200000.0</td>\n",
       "      <td>2.0</td>\n",
       "      <td>NaN</td>\n",
       "    </tr>\n",
       "    <tr>\n",
       "      <th>14461</th>\n",
       "      <td>Ferrari</td>\n",
       "      <td>Laferrari</td>\n",
       "      <td>2017</td>\n",
       "      <td>10</td>\n",
       "      <td>Red</td>\n",
       "      <td>2013.0</td>\n",
       "      <td>Coupe</td>\n",
       "      <td>5800.0</td>\n",
       "      <td>6.3</td>\n",
       "      <td>Automatic</td>\n",
       "      <td>NaN</td>\n",
       "      <td>2195000.0</td>\n",
       "      <td>2.0</td>\n",
       "      <td>NaN</td>\n",
       "    </tr>\n",
       "    <tr>\n",
       "      <th>14275</th>\n",
       "      <td>Ferrari</td>\n",
       "      <td>Enzo</td>\n",
       "      <td>2017</td>\n",
       "      <td>10</td>\n",
       "      <td>Red</td>\n",
       "      <td>2003.0</td>\n",
       "      <td>Coupe</td>\n",
       "      <td>4397.0</td>\n",
       "      <td>6.0</td>\n",
       "      <td>NaN</td>\n",
       "      <td>Petrol</td>\n",
       "      <td>2000000.0</td>\n",
       "      <td>2.0</td>\n",
       "      <td>NaN</td>\n",
       "    </tr>\n",
       "    <tr>\n",
       "      <th>104999</th>\n",
       "      <td>McLaren</td>\n",
       "      <td>P1</td>\n",
       "      <td>2017</td>\n",
       "      <td>2</td>\n",
       "      <td>Yellow</td>\n",
       "      <td>2016.0</td>\n",
       "      <td>Coupe</td>\n",
       "      <td>151.0</td>\n",
       "      <td>3.8</td>\n",
       "      <td>Automatic</td>\n",
       "      <td>Hybrid  Petrol/Electric Plug-in</td>\n",
       "      <td>1920000.0</td>\n",
       "      <td>2.0</td>\n",
       "      <td>2.0</td>\n",
       "    </tr>\n",
       "    <tr>\n",
       "      <th>105000</th>\n",
       "      <td>McLaren</td>\n",
       "      <td>P1</td>\n",
       "      <td>2018</td>\n",
       "      <td>4</td>\n",
       "      <td>Orange</td>\n",
       "      <td>2016.0</td>\n",
       "      <td>Coupe</td>\n",
       "      <td>NaN</td>\n",
       "      <td>3.8</td>\n",
       "      <td>Automatic</td>\n",
       "      <td>Petrol</td>\n",
       "      <td>1750000.0</td>\n",
       "      <td>NaN</td>\n",
       "      <td>NaN</td>\n",
       "    </tr>\n",
       "    <tr>\n",
       "      <th>1109</th>\n",
       "      <td>Bugatti</td>\n",
       "      <td>Veyron</td>\n",
       "      <td>2018</td>\n",
       "      <td>5</td>\n",
       "      <td>Black</td>\n",
       "      <td>2007.0</td>\n",
       "      <td>Coupe</td>\n",
       "      <td>828.0</td>\n",
       "      <td>8.0</td>\n",
       "      <td>Automatic</td>\n",
       "      <td>Petrol</td>\n",
       "      <td>1650000.0</td>\n",
       "      <td>2.0</td>\n",
       "      <td>NaN</td>\n",
       "    </tr>\n",
       "  </tbody>\n",
       "</table>\n",
       "</div>"
      ],
      "text/plain": [
       "          maker   genmodel  adv_year  adv_month   color  reg_year bodytype  \\\n",
       "104958  McLaren      675LT      2017          6  Silver    2016.0    Coupe   \n",
       "14460   Ferrari  Laferrari      2018          3     Red    2014.0    Coupe   \n",
       "14462   Ferrari  Laferrari      2018          4     Red    2014.0    Coupe   \n",
       "105002  McLaren         P1      2021          4  Yellow    2019.0    Coupe   \n",
       "14276   Ferrari       Enzo      2018          3     Red    2004.0    Coupe   \n",
       "14461   Ferrari  Laferrari      2017         10     Red    2013.0    Coupe   \n",
       "14275   Ferrari       Enzo      2017         10     Red    2003.0    Coupe   \n",
       "104999  McLaren         P1      2017          2  Yellow    2016.0    Coupe   \n",
       "105000  McLaren         P1      2018          4  Orange    2016.0    Coupe   \n",
       "1109    Bugatti     Veyron      2018          5   Black    2007.0    Coupe   \n",
       "\n",
       "        runned_miles  engin_size    gearbox                        fuel_type  \\\n",
       "104958         200.0         3.8  Automatic                           Petrol   \n",
       "14460         1824.0         6.3        NaN                              NaN   \n",
       "14462         1502.0         NaN        NaN                           Petrol   \n",
       "105002         600.0         3.8  Automatic            Petrol Plug-in Hybrid   \n",
       "14276         7620.0         6.0        NaN                           Petrol   \n",
       "14461         5800.0         6.3  Automatic                              NaN   \n",
       "14275         4397.0         6.0        NaN                           Petrol   \n",
       "104999         151.0         3.8  Automatic  Hybrid  Petrol/Electric Plug-in   \n",
       "105000           NaN         3.8  Automatic                           Petrol   \n",
       "1109           828.0         8.0  Automatic                           Petrol   \n",
       "\n",
       "            price  seat_num  door_num  \n",
       "104958  9999999.0       2.0       2.0  \n",
       "14460   2599990.0       2.0       NaN  \n",
       "14462   2500000.0       2.0       NaN  \n",
       "105002  2490000.0       2.0       2.0  \n",
       "14276   2200000.0       2.0       NaN  \n",
       "14461   2195000.0       2.0       NaN  \n",
       "14275   2000000.0       2.0       NaN  \n",
       "104999  1920000.0       2.0       2.0  \n",
       "105000  1750000.0       NaN       NaN  \n",
       "1109    1650000.0       2.0       NaN  "
      ]
     },
     "execution_count": 16,
     "metadata": {},
     "output_type": "execute_result"
    }
   ],
   "source": [
    "car_data.nlargest(10, \"price\")"
   ]
  },
  {
   "cell_type": "markdown",
   "id": "a2c54876",
   "metadata": {},
   "source": [
    "It is highly unlikely that a McLaren 675LT would cost almost 10000000 pounds. Let's see if we have any other McLarens 675LT soldi in 2017 in our dataset."
   ]
  },
  {
   "cell_type": "code",
   "execution_count": 17,
   "id": "1863caf9",
   "metadata": {},
   "outputs": [
    {
     "data": {
      "text/html": [
       "<div>\n",
       "<style scoped>\n",
       "    .dataframe tbody tr th:only-of-type {\n",
       "        vertical-align: middle;\n",
       "    }\n",
       "\n",
       "    .dataframe tbody tr th {\n",
       "        vertical-align: top;\n",
       "    }\n",
       "\n",
       "    .dataframe thead th {\n",
       "        text-align: right;\n",
       "    }\n",
       "</style>\n",
       "<table border=\"1\" class=\"dataframe\">\n",
       "  <thead>\n",
       "    <tr style=\"text-align: right;\">\n",
       "      <th></th>\n",
       "      <th>maker</th>\n",
       "      <th>genmodel</th>\n",
       "      <th>adv_year</th>\n",
       "      <th>adv_month</th>\n",
       "      <th>color</th>\n",
       "      <th>reg_year</th>\n",
       "      <th>bodytype</th>\n",
       "      <th>runned_miles</th>\n",
       "      <th>engin_size</th>\n",
       "      <th>gearbox</th>\n",
       "      <th>fuel_type</th>\n",
       "      <th>price</th>\n",
       "      <th>seat_num</th>\n",
       "      <th>door_num</th>\n",
       "    </tr>\n",
       "  </thead>\n",
       "  <tbody>\n",
       "    <tr>\n",
       "      <th>104946</th>\n",
       "      <td>McLaren</td>\n",
       "      <td>675LT</td>\n",
       "      <td>2017</td>\n",
       "      <td>6</td>\n",
       "      <td>Orange</td>\n",
       "      <td>2016.0</td>\n",
       "      <td>Convertible</td>\n",
       "      <td>193.0</td>\n",
       "      <td>3.8</td>\n",
       "      <td>Automatic</td>\n",
       "      <td>Petrol</td>\n",
       "      <td>299990.0</td>\n",
       "      <td>2.0</td>\n",
       "      <td>2.0</td>\n",
       "    </tr>\n",
       "    <tr>\n",
       "      <th>104947</th>\n",
       "      <td>McLaren</td>\n",
       "      <td>675LT</td>\n",
       "      <td>2017</td>\n",
       "      <td>10</td>\n",
       "      <td>Orange</td>\n",
       "      <td>2016.0</td>\n",
       "      <td>Coupe</td>\n",
       "      <td>662.0</td>\n",
       "      <td>3.8</td>\n",
       "      <td>Automatic</td>\n",
       "      <td>Petrol</td>\n",
       "      <td>244950.0</td>\n",
       "      <td>2.0</td>\n",
       "      <td>2.0</td>\n",
       "    </tr>\n",
       "    <tr>\n",
       "      <th>104950</th>\n",
       "      <td>McLaren</td>\n",
       "      <td>675LT</td>\n",
       "      <td>2017</td>\n",
       "      <td>9</td>\n",
       "      <td>Orange</td>\n",
       "      <td>2016.0</td>\n",
       "      <td>Coupe</td>\n",
       "      <td>9843.0</td>\n",
       "      <td>3.8</td>\n",
       "      <td>Automatic</td>\n",
       "      <td>Petrol</td>\n",
       "      <td>249000.0</td>\n",
       "      <td>2.0</td>\n",
       "      <td>NaN</td>\n",
       "    </tr>\n",
       "    <tr>\n",
       "      <th>104958</th>\n",
       "      <td>McLaren</td>\n",
       "      <td>675LT</td>\n",
       "      <td>2017</td>\n",
       "      <td>6</td>\n",
       "      <td>Silver</td>\n",
       "      <td>2016.0</td>\n",
       "      <td>Coupe</td>\n",
       "      <td>200.0</td>\n",
       "      <td>3.8</td>\n",
       "      <td>Automatic</td>\n",
       "      <td>Petrol</td>\n",
       "      <td>9999999.0</td>\n",
       "      <td>2.0</td>\n",
       "      <td>2.0</td>\n",
       "    </tr>\n",
       "    <tr>\n",
       "      <th>104960</th>\n",
       "      <td>McLaren</td>\n",
       "      <td>675LT</td>\n",
       "      <td>2017</td>\n",
       "      <td>7</td>\n",
       "      <td>Grey</td>\n",
       "      <td>2016.0</td>\n",
       "      <td>Convertible</td>\n",
       "      <td>280.0</td>\n",
       "      <td>3.8</td>\n",
       "      <td>Semi-Automatic</td>\n",
       "      <td>Petrol</td>\n",
       "      <td>299950.0</td>\n",
       "      <td>NaN</td>\n",
       "      <td>NaN</td>\n",
       "    </tr>\n",
       "    <tr>\n",
       "      <th>104962</th>\n",
       "      <td>McLaren</td>\n",
       "      <td>675LT</td>\n",
       "      <td>2017</td>\n",
       "      <td>9</td>\n",
       "      <td>Green</td>\n",
       "      <td>2016.0</td>\n",
       "      <td>Convertible</td>\n",
       "      <td>10.0</td>\n",
       "      <td>3.8</td>\n",
       "      <td>Automatic</td>\n",
       "      <td>Petrol</td>\n",
       "      <td>309995.0</td>\n",
       "      <td>2.0</td>\n",
       "      <td>NaN</td>\n",
       "    </tr>\n",
       "    <tr>\n",
       "      <th>104967</th>\n",
       "      <td>McLaren</td>\n",
       "      <td>675LT</td>\n",
       "      <td>2017</td>\n",
       "      <td>4</td>\n",
       "      <td>White</td>\n",
       "      <td>2015.0</td>\n",
       "      <td>Coupe</td>\n",
       "      <td>30000.0</td>\n",
       "      <td>3.8</td>\n",
       "      <td>Automatic</td>\n",
       "      <td>Petrol</td>\n",
       "      <td>269989.0</td>\n",
       "      <td>2.0</td>\n",
       "      <td>2.0</td>\n",
       "    </tr>\n",
       "  </tbody>\n",
       "</table>\n",
       "</div>"
      ],
      "text/plain": [
       "          maker genmodel  adv_year  adv_month   color  reg_year     bodytype  \\\n",
       "104946  McLaren    675LT      2017          6  Orange    2016.0  Convertible   \n",
       "104947  McLaren    675LT      2017         10  Orange    2016.0        Coupe   \n",
       "104950  McLaren    675LT      2017          9  Orange    2016.0        Coupe   \n",
       "104958  McLaren    675LT      2017          6  Silver    2016.0        Coupe   \n",
       "104960  McLaren    675LT      2017          7    Grey    2016.0  Convertible   \n",
       "104962  McLaren    675LT      2017          9   Green    2016.0  Convertible   \n",
       "104967  McLaren    675LT      2017          4   White    2015.0        Coupe   \n",
       "\n",
       "        runned_miles  engin_size         gearbox fuel_type      price  \\\n",
       "104946         193.0         3.8       Automatic    Petrol   299990.0   \n",
       "104947         662.0         3.8       Automatic    Petrol   244950.0   \n",
       "104950        9843.0         3.8       Automatic    Petrol   249000.0   \n",
       "104958         200.0         3.8       Automatic    Petrol  9999999.0   \n",
       "104960         280.0         3.8  Semi-Automatic    Petrol   299950.0   \n",
       "104962          10.0         3.8       Automatic    Petrol   309995.0   \n",
       "104967       30000.0         3.8       Automatic    Petrol   269989.0   \n",
       "\n",
       "        seat_num  door_num  \n",
       "104946       2.0       2.0  \n",
       "104947       2.0       2.0  \n",
       "104950       2.0       NaN  \n",
       "104958       2.0       2.0  \n",
       "104960       NaN       NaN  \n",
       "104962       2.0       NaN  \n",
       "104967       2.0       2.0  "
      ]
     },
     "execution_count": 17,
     "metadata": {},
     "output_type": "execute_result"
    }
   ],
   "source": [
    "car_data[(car_data[\"genmodel\"] == \"675LT\") & (car_data[\"adv_year\"] == 2017)]"
   ]
  },
  {
   "cell_type": "markdown",
   "id": "06206768",
   "metadata": {},
   "source": [
    "Since we have a bunch of them, let's fill in our outlier with the median for the 675LTs sold in 2017."
   ]
  },
  {
   "cell_type": "code",
   "execution_count": 18,
   "id": "fbbfd480",
   "metadata": {},
   "outputs": [],
   "source": [
    "mclaren_price_median = car_data[(car_data[\"genmodel\"] == \"675LT\") & (car_data[\"adv_year\"] == 2017) & (car_data[\"price\"] < 1000000)][\"price\"].median()\n",
    "car_data.at[104958, \"price\"] = mclaren_price_median"
   ]
  },
  {
   "cell_type": "markdown",
   "id": "c85d19cd",
   "metadata": {},
   "source": [
    "Next we have the **engin_size** column."
   ]
  },
  {
   "cell_type": "code",
   "execution_count": 19,
   "id": "73928320",
   "metadata": {},
   "outputs": [
    {
     "data": {
      "text/html": [
       "<div>\n",
       "<style scoped>\n",
       "    .dataframe tbody tr th:only-of-type {\n",
       "        vertical-align: middle;\n",
       "    }\n",
       "\n",
       "    .dataframe tbody tr th {\n",
       "        vertical-align: top;\n",
       "    }\n",
       "\n",
       "    .dataframe thead th {\n",
       "        text-align: right;\n",
       "    }\n",
       "</style>\n",
       "<table border=\"1\" class=\"dataframe\">\n",
       "  <thead>\n",
       "    <tr style=\"text-align: right;\">\n",
       "      <th></th>\n",
       "      <th>maker</th>\n",
       "      <th>genmodel</th>\n",
       "      <th>adv_year</th>\n",
       "      <th>adv_month</th>\n",
       "      <th>color</th>\n",
       "      <th>reg_year</th>\n",
       "      <th>bodytype</th>\n",
       "      <th>runned_miles</th>\n",
       "      <th>engin_size</th>\n",
       "      <th>gearbox</th>\n",
       "      <th>fuel_type</th>\n",
       "      <th>price</th>\n",
       "      <th>seat_num</th>\n",
       "      <th>door_num</th>\n",
       "    </tr>\n",
       "  </thead>\n",
       "  <tbody>\n",
       "    <tr>\n",
       "      <th>130799</th>\n",
       "      <td>Nissan</td>\n",
       "      <td>Elgrand</td>\n",
       "      <td>2018</td>\n",
       "      <td>7</td>\n",
       "      <td>Black</td>\n",
       "      <td>2004.0</td>\n",
       "      <td>MPV</td>\n",
       "      <td>52000.0</td>\n",
       "      <td>3500.0</td>\n",
       "      <td>Automatic</td>\n",
       "      <td>Petrol</td>\n",
       "      <td>9988.0</td>\n",
       "      <td>8.0</td>\n",
       "      <td>NaN</td>\n",
       "    </tr>\n",
       "    <tr>\n",
       "      <th>114114</th>\n",
       "      <td>Mitsubishi</td>\n",
       "      <td>Gto</td>\n",
       "      <td>2018</td>\n",
       "      <td>5</td>\n",
       "      <td>Red</td>\n",
       "      <td>2002.0</td>\n",
       "      <td>Coupe</td>\n",
       "      <td>61000.0</td>\n",
       "      <td>2998.0</td>\n",
       "      <td>Automatic</td>\n",
       "      <td>Petrol</td>\n",
       "      <td>2995.0</td>\n",
       "      <td>4.0</td>\n",
       "      <td>NaN</td>\n",
       "    </tr>\n",
       "    <tr>\n",
       "      <th>130712</th>\n",
       "      <td>Nissan</td>\n",
       "      <td>Cubic</td>\n",
       "      <td>2018</td>\n",
       "      <td>5</td>\n",
       "      <td>NaN</td>\n",
       "      <td>2003.0</td>\n",
       "      <td>Estate</td>\n",
       "      <td>71000.0</td>\n",
       "      <td>1400.0</td>\n",
       "      <td>Automatic</td>\n",
       "      <td>Petrol</td>\n",
       "      <td>3000.0</td>\n",
       "      <td>5.0</td>\n",
       "      <td>NaN</td>\n",
       "    </tr>\n",
       "    <tr>\n",
       "      <th>194214</th>\n",
       "      <td>Suzuki</td>\n",
       "      <td>Celerio</td>\n",
       "      <td>2018</td>\n",
       "      <td>3</td>\n",
       "      <td>White</td>\n",
       "      <td>2017.0</td>\n",
       "      <td>Hatchback</td>\n",
       "      <td>22058.0</td>\n",
       "      <td>10.0</td>\n",
       "      <td>Manual</td>\n",
       "      <td>Petrol</td>\n",
       "      <td>5499.0</td>\n",
       "      <td>NaN</td>\n",
       "      <td>NaN</td>\n",
       "    </tr>\n",
       "    <tr>\n",
       "      <th>146118</th>\n",
       "      <td>Porsche</td>\n",
       "      <td>Cayenne</td>\n",
       "      <td>2018</td>\n",
       "      <td>3</td>\n",
       "      <td>Black</td>\n",
       "      <td>2018.0</td>\n",
       "      <td>Estate</td>\n",
       "      <td>50.0</td>\n",
       "      <td>8.2</td>\n",
       "      <td>NaN</td>\n",
       "      <td>Diesel</td>\n",
       "      <td>64990.0</td>\n",
       "      <td>NaN</td>\n",
       "      <td>NaN</td>\n",
       "    </tr>\n",
       "    <tr>\n",
       "      <th>1108</th>\n",
       "      <td>Bugatti</td>\n",
       "      <td>Veyron</td>\n",
       "      <td>2018</td>\n",
       "      <td>4</td>\n",
       "      <td>Multicolour</td>\n",
       "      <td>2007.0</td>\n",
       "      <td>Coupe</td>\n",
       "      <td>5000.0</td>\n",
       "      <td>8.0</td>\n",
       "      <td>Automatic</td>\n",
       "      <td>Petrol</td>\n",
       "      <td>1250000.0</td>\n",
       "      <td>NaN</td>\n",
       "      <td>NaN</td>\n",
       "    </tr>\n",
       "    <tr>\n",
       "      <th>1109</th>\n",
       "      <td>Bugatti</td>\n",
       "      <td>Veyron</td>\n",
       "      <td>2018</td>\n",
       "      <td>5</td>\n",
       "      <td>Black</td>\n",
       "      <td>2007.0</td>\n",
       "      <td>Coupe</td>\n",
       "      <td>828.0</td>\n",
       "      <td>8.0</td>\n",
       "      <td>Automatic</td>\n",
       "      <td>Petrol</td>\n",
       "      <td>1650000.0</td>\n",
       "      <td>2.0</td>\n",
       "      <td>NaN</td>\n",
       "    </tr>\n",
       "    <tr>\n",
       "      <th>1795</th>\n",
       "      <td>Chevrolet</td>\n",
       "      <td>Corvette</td>\n",
       "      <td>2018</td>\n",
       "      <td>4</td>\n",
       "      <td>Orange</td>\n",
       "      <td>2015.0</td>\n",
       "      <td>Coupe</td>\n",
       "      <td>6600.0</td>\n",
       "      <td>7.0</td>\n",
       "      <td>Manual</td>\n",
       "      <td>Petrol</td>\n",
       "      <td>99995.0</td>\n",
       "      <td>2.0</td>\n",
       "      <td>NaN</td>\n",
       "    </tr>\n",
       "    <tr>\n",
       "      <th>78972</th>\n",
       "      <td>Lamborghini</td>\n",
       "      <td>Aventador</td>\n",
       "      <td>2017</td>\n",
       "      <td>12</td>\n",
       "      <td>Orange</td>\n",
       "      <td>2012.0</td>\n",
       "      <td>NaN</td>\n",
       "      <td>18000.0</td>\n",
       "      <td>6.9</td>\n",
       "      <td>Automatic</td>\n",
       "      <td>Petrol</td>\n",
       "      <td>202895.0</td>\n",
       "      <td>2.0</td>\n",
       "      <td>NaN</td>\n",
       "    </tr>\n",
       "    <tr>\n",
       "      <th>0</th>\n",
       "      <td>Bentley</td>\n",
       "      <td>Arnage</td>\n",
       "      <td>2018</td>\n",
       "      <td>4</td>\n",
       "      <td>Silver</td>\n",
       "      <td>2000.0</td>\n",
       "      <td>Saloon</td>\n",
       "      <td>60000.0</td>\n",
       "      <td>6.8</td>\n",
       "      <td>Automatic</td>\n",
       "      <td>Petrol</td>\n",
       "      <td>21500.0</td>\n",
       "      <td>5.0</td>\n",
       "      <td>4.0</td>\n",
       "    </tr>\n",
       "  </tbody>\n",
       "</table>\n",
       "</div>"
      ],
      "text/plain": [
       "              maker   genmodel  adv_year  adv_month        color  reg_year  \\\n",
       "130799       Nissan    Elgrand      2018          7        Black    2004.0   \n",
       "114114   Mitsubishi        Gto      2018          5          Red    2002.0   \n",
       "130712       Nissan      Cubic      2018          5          NaN    2003.0   \n",
       "194214       Suzuki    Celerio      2018          3        White    2017.0   \n",
       "146118      Porsche    Cayenne      2018          3        Black    2018.0   \n",
       "1108        Bugatti     Veyron      2018          4  Multicolour    2007.0   \n",
       "1109        Bugatti     Veyron      2018          5        Black    2007.0   \n",
       "1795      Chevrolet   Corvette      2018          4       Orange    2015.0   \n",
       "78972   Lamborghini  Aventador      2017         12       Orange    2012.0   \n",
       "0           Bentley     Arnage      2018          4       Silver    2000.0   \n",
       "\n",
       "         bodytype  runned_miles  engin_size    gearbox fuel_type      price  \\\n",
       "130799        MPV       52000.0      3500.0  Automatic    Petrol     9988.0   \n",
       "114114      Coupe       61000.0      2998.0  Automatic    Petrol     2995.0   \n",
       "130712     Estate       71000.0      1400.0  Automatic    Petrol     3000.0   \n",
       "194214  Hatchback       22058.0        10.0     Manual    Petrol     5499.0   \n",
       "146118     Estate          50.0         8.2        NaN    Diesel    64990.0   \n",
       "1108        Coupe        5000.0         8.0  Automatic    Petrol  1250000.0   \n",
       "1109        Coupe         828.0         8.0  Automatic    Petrol  1650000.0   \n",
       "1795        Coupe        6600.0         7.0     Manual    Petrol    99995.0   \n",
       "78972         NaN       18000.0         6.9  Automatic    Petrol   202895.0   \n",
       "0          Saloon       60000.0         6.8  Automatic    Petrol    21500.0   \n",
       "\n",
       "        seat_num  door_num  \n",
       "130799       8.0       NaN  \n",
       "114114       4.0       NaN  \n",
       "130712       5.0       NaN  \n",
       "194214       NaN       NaN  \n",
       "146118       NaN       NaN  \n",
       "1108         NaN       NaN  \n",
       "1109         2.0       NaN  \n",
       "1795         2.0       NaN  \n",
       "78972        2.0       NaN  \n",
       "0            5.0       4.0  "
      ]
     },
     "execution_count": 19,
     "metadata": {},
     "output_type": "execute_result"
    }
   ],
   "source": [
    "car_data.nlargest(10, \"engin_size\")"
   ]
  },
  {
   "cell_type": "markdown",
   "id": "c7047987",
   "metadata": {},
   "source": [
    "Looking at the largest values, we can safely assume that there was a mistake made in the units of the engine size values. For the Nissan Elgrand model the value should be 3.5 liters, for Mitsubishi GTO it should be 2.998 liters, for Nissan Cubic it should be 1.4 liters, and for Suzuki Celerio it should be 1.0 liters."
   ]
  },
  {
   "cell_type": "code",
   "execution_count": 20,
   "id": "67e726ea",
   "metadata": {},
   "outputs": [],
   "source": [
    "car_data.at[130799, \"engin_size\"] = 3.5\n",
    "car_data.at[114114, \"engin_size\"] = 2.998\n",
    "car_data.at[130712, \"engin_size\"] = 1.4\n",
    "car_data.at[194214, \"engin_size\"] = 1"
   ]
  },
  {
   "cell_type": "markdown",
   "id": "03527b9b",
   "metadata": {},
   "source": [
    "Last but not least, we have the **runned_miles** column. Let's take a look at the top 10 largest values."
   ]
  },
  {
   "cell_type": "code",
   "execution_count": 21,
   "id": "bd46668c",
   "metadata": {},
   "outputs": [
    {
     "data": {
      "text/html": [
       "<div>\n",
       "<style scoped>\n",
       "    .dataframe tbody tr th:only-of-type {\n",
       "        vertical-align: middle;\n",
       "    }\n",
       "\n",
       "    .dataframe tbody tr th {\n",
       "        vertical-align: top;\n",
       "    }\n",
       "\n",
       "    .dataframe thead th {\n",
       "        text-align: right;\n",
       "    }\n",
       "</style>\n",
       "<table border=\"1\" class=\"dataframe\">\n",
       "  <thead>\n",
       "    <tr style=\"text-align: right;\">\n",
       "      <th></th>\n",
       "      <th>maker</th>\n",
       "      <th>genmodel</th>\n",
       "      <th>adv_year</th>\n",
       "      <th>adv_month</th>\n",
       "      <th>color</th>\n",
       "      <th>reg_year</th>\n",
       "      <th>bodytype</th>\n",
       "      <th>runned_miles</th>\n",
       "      <th>engin_size</th>\n",
       "      <th>gearbox</th>\n",
       "      <th>fuel_type</th>\n",
       "      <th>price</th>\n",
       "      <th>seat_num</th>\n",
       "      <th>door_num</th>\n",
       "    </tr>\n",
       "  </thead>\n",
       "  <tbody>\n",
       "    <tr>\n",
       "      <th>245206</th>\n",
       "      <td>Volkswagen</td>\n",
       "      <td>Golf</td>\n",
       "      <td>2018</td>\n",
       "      <td>4</td>\n",
       "      <td>Black</td>\n",
       "      <td>2007.0</td>\n",
       "      <td>Hatchback</td>\n",
       "      <td>6363342.0</td>\n",
       "      <td>1.6</td>\n",
       "      <td>Manual</td>\n",
       "      <td>Petrol</td>\n",
       "      <td>2395.0</td>\n",
       "      <td>5.0</td>\n",
       "      <td>5.0</td>\n",
       "    </tr>\n",
       "    <tr>\n",
       "      <th>57788</th>\n",
       "      <td>Hyundai</td>\n",
       "      <td>Getz</td>\n",
       "      <td>2018</td>\n",
       "      <td>6</td>\n",
       "      <td>Silver</td>\n",
       "      <td>2005.0</td>\n",
       "      <td>Hatchback</td>\n",
       "      <td>1080000.0</td>\n",
       "      <td>1.1</td>\n",
       "      <td>Manual</td>\n",
       "      <td>Petrol</td>\n",
       "      <td>785.0</td>\n",
       "      <td>5.0</td>\n",
       "      <td>3.0</td>\n",
       "    </tr>\n",
       "    <tr>\n",
       "      <th>94682</th>\n",
       "      <td>MINI</td>\n",
       "      <td>Convertible</td>\n",
       "      <td>2018</td>\n",
       "      <td>5</td>\n",
       "      <td>Red</td>\n",
       "      <td>2004.0</td>\n",
       "      <td>Convertible</td>\n",
       "      <td>967515.0</td>\n",
       "      <td>1.6</td>\n",
       "      <td>Manual</td>\n",
       "      <td>Petrol</td>\n",
       "      <td>1875.0</td>\n",
       "      <td>4.0</td>\n",
       "      <td>2.0</td>\n",
       "    </tr>\n",
       "    <tr>\n",
       "      <th>27899</th>\n",
       "      <td>Ford</td>\n",
       "      <td>Focus</td>\n",
       "      <td>2017</td>\n",
       "      <td>11</td>\n",
       "      <td>NaN</td>\n",
       "      <td>2010.0</td>\n",
       "      <td>Hatchback</td>\n",
       "      <td>900000.0</td>\n",
       "      <td>1.6</td>\n",
       "      <td>Manual</td>\n",
       "      <td>Petrol</td>\n",
       "      <td>1500.0</td>\n",
       "      <td>5.0</td>\n",
       "      <td>5.0</td>\n",
       "    </tr>\n",
       "    <tr>\n",
       "      <th>66895</th>\n",
       "      <td>Jaguar</td>\n",
       "      <td>XF</td>\n",
       "      <td>2018</td>\n",
       "      <td>4</td>\n",
       "      <td>Black</td>\n",
       "      <td>2010.0</td>\n",
       "      <td>Saloon</td>\n",
       "      <td>900000.0</td>\n",
       "      <td>3.0</td>\n",
       "      <td>Automatic</td>\n",
       "      <td>Diesel</td>\n",
       "      <td>9100.0</td>\n",
       "      <td>5.0</td>\n",
       "      <td>4.0</td>\n",
       "    </tr>\n",
       "    <tr>\n",
       "      <th>230562</th>\n",
       "      <td>Vauxhall</td>\n",
       "      <td>Zafira</td>\n",
       "      <td>2018</td>\n",
       "      <td>8</td>\n",
       "      <td>Beige</td>\n",
       "      <td>2007.0</td>\n",
       "      <td>MPV</td>\n",
       "      <td>889087.0</td>\n",
       "      <td>1.6</td>\n",
       "      <td>Manual</td>\n",
       "      <td>Petrol</td>\n",
       "      <td>500.0</td>\n",
       "      <td>7.0</td>\n",
       "      <td>5.0</td>\n",
       "    </tr>\n",
       "    <tr>\n",
       "      <th>15545</th>\n",
       "      <td>Fiat</td>\n",
       "      <td>Grande Punto</td>\n",
       "      <td>2018</td>\n",
       "      <td>5</td>\n",
       "      <td>Black</td>\n",
       "      <td>2006.0</td>\n",
       "      <td>Hatchback</td>\n",
       "      <td>880000.0</td>\n",
       "      <td>1.4</td>\n",
       "      <td>Manual</td>\n",
       "      <td>Petrol</td>\n",
       "      <td>800.0</td>\n",
       "      <td>5.0</td>\n",
       "      <td>3.0</td>\n",
       "    </tr>\n",
       "    <tr>\n",
       "      <th>1210</th>\n",
       "      <td>Chevrolet</td>\n",
       "      <td>Lacetti</td>\n",
       "      <td>2018</td>\n",
       "      <td>8</td>\n",
       "      <td>Blue</td>\n",
       "      <td>2008.0</td>\n",
       "      <td>Estate</td>\n",
       "      <td>820000.0</td>\n",
       "      <td>1.8</td>\n",
       "      <td>Automatic</td>\n",
       "      <td>Petrol</td>\n",
       "      <td>325.0</td>\n",
       "      <td>5.0</td>\n",
       "      <td>5.0</td>\n",
       "    </tr>\n",
       "    <tr>\n",
       "      <th>7701</th>\n",
       "      <td>Citroen</td>\n",
       "      <td>C2</td>\n",
       "      <td>2018</td>\n",
       "      <td>8</td>\n",
       "      <td>Blue</td>\n",
       "      <td>2004.0</td>\n",
       "      <td>Hatchback</td>\n",
       "      <td>780000.0</td>\n",
       "      <td>1.1</td>\n",
       "      <td>Manual</td>\n",
       "      <td>Petrol</td>\n",
       "      <td>250.0</td>\n",
       "      <td>4.0</td>\n",
       "      <td>3.0</td>\n",
       "    </tr>\n",
       "    <tr>\n",
       "      <th>231222</th>\n",
       "      <td>Vauxhall</td>\n",
       "      <td>Zafira</td>\n",
       "      <td>2018</td>\n",
       "      <td>8</td>\n",
       "      <td>Silver</td>\n",
       "      <td>2004.0</td>\n",
       "      <td>MPV</td>\n",
       "      <td>690644.0</td>\n",
       "      <td>2.0</td>\n",
       "      <td>Manual</td>\n",
       "      <td>Diesel</td>\n",
       "      <td>850.0</td>\n",
       "      <td>7.0</td>\n",
       "      <td>5.0</td>\n",
       "    </tr>\n",
       "  </tbody>\n",
       "</table>\n",
       "</div>"
      ],
      "text/plain": [
       "             maker      genmodel  adv_year  adv_month   color  reg_year  \\\n",
       "245206  Volkswagen          Golf      2018          4   Black    2007.0   \n",
       "57788      Hyundai          Getz      2018          6  Silver    2005.0   \n",
       "94682         MINI   Convertible      2018          5     Red    2004.0   \n",
       "27899         Ford         Focus      2017         11     NaN    2010.0   \n",
       "66895       Jaguar            XF      2018          4   Black    2010.0   \n",
       "230562    Vauxhall        Zafira      2018          8   Beige    2007.0   \n",
       "15545         Fiat  Grande Punto      2018          5   Black    2006.0   \n",
       "1210     Chevrolet       Lacetti      2018          8    Blue    2008.0   \n",
       "7701       Citroen            C2      2018          8    Blue    2004.0   \n",
       "231222    Vauxhall        Zafira      2018          8  Silver    2004.0   \n",
       "\n",
       "           bodytype  runned_miles  engin_size    gearbox fuel_type   price  \\\n",
       "245206    Hatchback     6363342.0         1.6     Manual    Petrol  2395.0   \n",
       "57788     Hatchback     1080000.0         1.1     Manual    Petrol   785.0   \n",
       "94682   Convertible      967515.0         1.6     Manual    Petrol  1875.0   \n",
       "27899     Hatchback      900000.0         1.6     Manual    Petrol  1500.0   \n",
       "66895        Saloon      900000.0         3.0  Automatic    Diesel  9100.0   \n",
       "230562          MPV      889087.0         1.6     Manual    Petrol   500.0   \n",
       "15545     Hatchback      880000.0         1.4     Manual    Petrol   800.0   \n",
       "1210         Estate      820000.0         1.8  Automatic    Petrol   325.0   \n",
       "7701      Hatchback      780000.0         1.1     Manual    Petrol   250.0   \n",
       "231222          MPV      690644.0         2.0     Manual    Diesel   850.0   \n",
       "\n",
       "        seat_num  door_num  \n",
       "245206       5.0       5.0  \n",
       "57788        5.0       3.0  \n",
       "94682        4.0       2.0  \n",
       "27899        5.0       5.0  \n",
       "66895        5.0       4.0  \n",
       "230562       7.0       5.0  \n",
       "15545        5.0       3.0  \n",
       "1210         5.0       5.0  \n",
       "7701         4.0       3.0  \n",
       "231222       7.0       5.0  "
      ]
     },
     "execution_count": 21,
     "metadata": {},
     "output_type": "execute_result"
    }
   ],
   "source": [
    "car_data.nlargest(10, \"runned_miles\")"
   ]
  },
  {
   "cell_type": "markdown",
   "id": "3e791a0e",
   "metadata": {},
   "source": [
    "There is no way that the Volkswagen Golf has driven more than 6 million miles in 11 years. Let's take a look at similar models."
   ]
  },
  {
   "cell_type": "code",
   "execution_count": 22,
   "id": "950576b9",
   "metadata": {},
   "outputs": [
    {
     "data": {
      "text/plain": [
       "2852"
      ]
     },
     "execution_count": 22,
     "metadata": {},
     "output_type": "execute_result"
    }
   ],
   "source": [
    "len(car_data[(car_data[\"genmodel\"] == \"Golf\") & (car_data[\"adv_year\"] == 2018)])"
   ]
  },
  {
   "cell_type": "markdown",
   "id": "3566928b",
   "metadata": {},
   "source": [
    "We have 2852 models of Volkswagen Golf that have been advertised in 2018. Now, let's get the cars that had a similar price and registration year."
   ]
  },
  {
   "cell_type": "code",
   "execution_count": 23,
   "id": "fb72c119",
   "metadata": {},
   "outputs": [],
   "source": [
    "similar_cars = car_data[(car_data[\"genmodel\"] == \"Golf\") & (car_data[\"adv_year\"] == 2018) & (car_data[\"price\"] > 2300) & (car_data[\"price\"] < 2500) & (car_data[\"reg_year\"] == 2007) & (car_data[\"door_num\"] == 5)]\n",
    "similar_cars = similar_cars.drop(245206)"
   ]
  },
  {
   "cell_type": "markdown",
   "id": "e8417210",
   "metadata": {},
   "source": [
    "Now let's replace the value with the median mileage for this set of cars similar to the Volkswagen Golf under consideration."
   ]
  },
  {
   "cell_type": "code",
   "execution_count": 24,
   "id": "6f4d0d20",
   "metadata": {},
   "outputs": [],
   "source": [
    "car_data.at[245206, \"runned_miles\"] = similar_cars[\"runned_miles\"].median()"
   ]
  },
  {
   "cell_type": "markdown",
   "id": "c8b21bb9",
   "metadata": {},
   "source": [
    "### Visualising the data\n",
    "\n",
    "Now as we have removed the outliers, we can make use of different visualization techniques to gain more insights about our data. "
   ]
  },
  {
   "cell_type": "markdown",
   "id": "dd8ba110",
   "metadata": {},
   "source": [
    "First visualisation we can make use of is the scatter matrix, where we will be able to see if there are any promising correlations between the attributes. We will plot only a few of the attributes since plotting all of them would take up way too much space. <br><br>\n",
    "\n",
    "Before we plot let's first examine the correlation coefficients of different numerical attributes with the price."
   ]
  },
  {
   "cell_type": "code",
   "execution_count": 25,
   "id": "ebd8778d",
   "metadata": {},
   "outputs": [
    {
     "data": {
      "text/plain": [
       "price           1.000000\n",
       "engin_size      0.479720\n",
       "reg_year        0.290790\n",
       "adv_year        0.077953\n",
       "adv_month      -0.032308\n",
       "seat_num       -0.139872\n",
       "door_num       -0.141074\n",
       "runned_miles   -0.302265\n",
       "Name: price, dtype: float64"
      ]
     },
     "execution_count": 25,
     "metadata": {},
     "output_type": "execute_result"
    }
   ],
   "source": [
    "corr_matrix = car_data.corr(numeric_only=True)\n",
    "corr_matrix[\"price\"].sort_values(ascending=False)"
   ]
  },
  {
   "cell_type": "markdown",
   "id": "10afce0e",
   "metadata": {},
   "source": [
    "It seems like the attributes that are the most correlated with the price are **engin_size**, **reg_year**, **seat_num**, **door_num**, and **runned_miles**.\n",
    "\n",
    "Now, we can also try to combine **seat_num** and **door_num** because from a logical point of view, we can quite accurately determine the number of doors given the number of seats in a car an vice versa because of the standards in the industry."
   ]
  },
  {
   "cell_type": "code",
   "execution_count": 26,
   "id": "e014fabb",
   "metadata": {},
   "outputs": [
    {
     "data": {
      "text/plain": [
       "price                  1.000000\n",
       "engin_size             0.479720\n",
       "reg_year               0.290790\n",
       "adv_year               0.077953\n",
       "adv_month             -0.032308\n",
       "seat_num              -0.139872\n",
       "door_num              -0.141074\n",
       "sum_seats_and_doors   -0.155768\n",
       "runned_miles          -0.302265\n",
       "Name: price, dtype: float64"
      ]
     },
     "execution_count": 26,
     "metadata": {},
     "output_type": "execute_result"
    }
   ],
   "source": [
    "car_data[\"sum_seats_and_doors\"] = car_data[\"seat_num\"] + car_data[\"door_num\"]\n",
    "corr_matrix = car_data.corr(numeric_only=True)\n",
    "corr_matrix[\"price\"].sort_values(ascending=False)"
   ]
  },
  {
   "cell_type": "code",
   "execution_count": 27,
   "id": "568ffd15",
   "metadata": {},
   "outputs": [
    {
     "data": {
      "text/plain": [
       "adv_year               0.018763\n",
       "adv_month             -0.003364\n",
       "reg_year               0.060249\n",
       "runned_miles           0.066406\n",
       "engin_size            -0.065825\n",
       "price                 -0.139872\n",
       "seat_num               1.000000\n",
       "door_num               0.582095\n",
       "sum_seats_and_doors    0.871459\n",
       "Name: seat_num, dtype: float64"
      ]
     },
     "execution_count": 27,
     "metadata": {},
     "output_type": "execute_result"
    }
   ],
   "source": [
    "corr_matrix[\"seat_num\"]"
   ]
  },
  {
   "cell_type": "code",
   "execution_count": 28,
   "id": "b4f664e7",
   "metadata": {},
   "outputs": [
    {
     "data": {
      "image/png": "[encoded data removed]",
      "text/plain": [
       "<Figure size 400x1200 with 4 Axes>"
      ]
     },
     "metadata": {},
     "output_type": "display_data"
    }
   ],
   "source": [
    "fig, axes = plt.subplots(nrows=4, ncols=1, figsize=(4, 12))\n",
    "\n",
    "axes[0].scatter(car_data[\"engin_size\"], car_data[\"price\"], alpha=0.7)\n",
    "axes[0].set_xlabel(\"Engine Size\")\n",
    "axes[0].set_ylabel(\"Price\")\n",
    "axes[0].set_title(\"Price vs Engine Size\")\n",
    "\n",
    "axes[1].scatter(car_data[\"reg_year\"], car_data[\"price\"], alpha=0.7)\n",
    "axes[1].set_xlabel(\"Registration Year\")\n",
    "axes[1].set_ylabel(\"Price\")\n",
    "axes[1].set_title(\"Price vs Registration Year\")\n",
    "\n",
    "axes[2].scatter(car_data[\"runned_miles\"], car_data[\"price\"], alpha=0.7)\n",
    "axes[2].set_xlabel(\"Runned Miles\")\n",
    "axes[2].set_ylabel(\"Price\")\n",
    "axes[2].set_title(\"Price vs Runned Miles\")\n",
    "\n",
    "axes[3].scatter(car_data[\"seat_num\"], car_data[\"door_num\"], alpha=0.7)\n",
    "axes[3].set_xlabel(\"Seat Number\")\n",
    "axes[3].set_ylabel(\"Door Number\")\n",
    "axes[3].set_title(\"Seat Number vs Door Number\")\n",
    "\n",
    "plt.tight_layout()\n",
    "\n",
    "plt.show()"
   ]
  },
  {
   "cell_type": "markdown",
   "id": "9e795e1d",
   "metadata": {},
   "source": [
    "Here we plot a scatter matrix to discover any interesting correlations in our data."
   ]
  },
  {
   "cell_type": "raw",
   "id": "403d98b8",
   "metadata": {},
   "source": [
    "from pandas.plotting import scatter_matrix\n",
    "attributes = [\"price\", \"engin_size\", \"reg_year\",\"runned_miles\", \"seat_num\", \"door_num\", \"sum_seats_and_doors\"]\n",
    "scatter_matrix(car_data[attributes], alpha=0.8, figsize=(15, 15), diagonal='hist', range_padding=0.1)\n",
    "plt.suptitle('Scatter Matrix of Numerical Attributes', y=0.92)\n",
    "plt.show()"
   ]
  },
  {
   "cell_type": "markdown",
   "id": "61482d48",
   "metadata": {},
   "source": [
    "As we can see, the sum of seats and doors seems to have a stronger correlation with the price compared to seat number and door number attributes on their own. Hence, let's remove both **seat_num** and **door_num** and use **sum_seats_and_doors** instead."
   ]
  },
  {
   "cell_type": "code",
   "execution_count": 29,
   "id": "2200ae12",
   "metadata": {},
   "outputs": [],
   "source": [
    "car_data = car_data.drop([\"seat_num\", \"door_num\"], axis=1)"
   ]
  },
  {
   "cell_type": "markdown",
   "id": "f453492d",
   "metadata": {
    "scrolled": true
   },
   "source": [
    "from pandas.plotting import scatter_matrix\n",
    "attributes = [\"price\", \"engin_size\", \"reg_year\",\"runned_miles\", \"sum_seats_and_doors\"]\n",
    "scatter_matrix(car_data[attributes], alpha=0.8, figsize=(15, 15), diagonal='hist', range_padding=0.1)\n",
    "plt.suptitle('Scatter Matrix of Numerical Attributes', y=0.92)\n",
    "plt.show()"
   ]
  },
  {
   "cell_type": "markdown",
   "id": "db32044f",
   "metadata": {},
   "source": [
    "From the above, we can deduce that there is a strong positive correlation between price and engine size, which makes a lot of sense as generally cars with bigger engines are more expensive. Also there seems to be a more positive correlation between price and registration year, which is also valid as newer cars are more expensive. When it comes to negative correlations, we can see a that as the mileage increases, the price rapidly drops, which is expected since the more worn out cars will obviously be cheaper."
   ]
  },
  {
   "cell_type": "markdown",
   "id": "20428116",
   "metadata": {},
   "source": [
    "### Fixing the missing values\n",
    "\n",
    "Now, we are going to fix the missing values."
   ]
  },
  {
   "cell_type": "code",
   "execution_count": 30,
   "id": "4184fcef",
   "metadata": {},
   "outputs": [
    {
     "data": {
      "text/plain": [
       "maker                      0\n",
       "genmodel                   0\n",
       "adv_year                   0\n",
       "adv_month                  0\n",
       "color                  21875\n",
       "reg_year                   7\n",
       "bodytype                 954\n",
       "runned_miles            1313\n",
       "engin_size              2064\n",
       "gearbox                  167\n",
       "fuel_type                409\n",
       "price                   1145\n",
       "sum_seats_and_doors     8704\n",
       "dtype: int64"
      ]
     },
     "execution_count": 30,
     "metadata": {},
     "output_type": "execute_result"
    }
   ],
   "source": [
    "car_data.isnull().sum()"
   ]
  },
  {
   "cell_type": "markdown",
   "id": "054f3766",
   "metadata": {},
   "source": [
    "Starting with **price** column, in this case we are going to just remove the entries for which the model is missing. The rows with missing price values make up a very small percentage of our dataset so for simplicity let's just remove them."
   ]
  },
  {
   "cell_type": "code",
   "execution_count": 31,
   "id": "54790e55",
   "metadata": {},
   "outputs": [],
   "source": [
    "car_data = car_data.dropna(subset=[\"price\"])"
   ]
  },
  {
   "cell_type": "markdown",
   "id": "043bf7ac",
   "metadata": {},
   "source": [
    "Next, for the null values in the **color** column, we are going to replace them with the mode for the corresponding car models with a similar price. For the rows that still have a missing color value after this transformation, we shall just the mode for the **color** for the same model. After that if there are still any missing color values left, we are going to remove the remaining entries completely."
   ]
  },
  {
   "cell_type": "code",
   "execution_count": 32,
   "id": "344905d5",
   "metadata": {},
   "outputs": [],
   "source": [
    "price_bins = pd.cut(car_data[\"price\"], bins=20, labels=False)\n",
    "mode_by_group = car_data.groupby([\"genmodel\", price_bins])[\"color\"].transform(lambda x: x.mode().iloc[0] if not x.mode().empty else None)\n",
    "car_data[\"color\"] = car_data[\"color\"].fillna(mode_by_group)\n",
    "\n",
    "mode_by_group = car_data.groupby([\"genmodel\"])[\"color\"].transform(lambda x: x.mode().iloc[0] if not x.mode().empty else None)\n",
    "car_data[\"color\"] = car_data[\"color\"].fillna(mode_by_group)\n",
    "\n",
    "car_data = car_data.dropna(subset=[\"color\"])"
   ]
  },
  {
   "cell_type": "markdown",
   "id": "4821211f",
   "metadata": {},
   "source": [
    "For the remaining columns except for the **price** column let's apply a similar strategy as for the **color** column. For the categorical attributes we are going to use the mode and for the numerical attibutes we are going to use the median."
   ]
  },
  {
   "cell_type": "code",
   "execution_count": 33,
   "id": "b1e6d3c8",
   "metadata": {},
   "outputs": [],
   "source": [
    "for column in car_data.columns[car_data.isnull().any()]:\n",
    "    if column != \"price\":\n",
    "        if car_data[column].dtype == \"object\":\n",
    "            mode_by_group = car_data.groupby([\"genmodel\", price_bins])[column].transform(lambda x: x.mode().iloc[0] if not x.mode().empty else None)\n",
    "            car_data[column] = car_data[column].fillna(mode_by_group)\n",
    "\n",
    "            mode_by_group = car_data.groupby([\"genmodel\"])[column].transform(lambda x: x.mode().iloc[0] if not x.mode().empty else None)\n",
    "            car_data[column] = car_data[column].fillna(mode_by_group)\n",
    "        else:\n",
    "            mode_by_group = car_data.groupby([\"genmodel\", price_bins])[column].transform(lambda x: x.median())\n",
    "            car_data[column] = car_data[column].fillna(mode_by_group)\n",
    "\n",
    "            mode_by_group = car_data.groupby([\"genmodel\"])[column].transform(lambda x: x.median())\n",
    "            car_data[column] = car_data[column].fillna(mode_by_group)\n",
    "\n",
    "        car_data = car_data.dropna(subset=[column])"
   ]
  },
  {
   "cell_type": "markdown",
   "id": "77c8a953",
   "metadata": {},
   "source": [
    "Here is a histogram of price attribute with mean and median marked. (For visualisation purpouses only)"
   ]
  },
  {
   "cell_type": "code",
   "execution_count": 34,
   "id": "0281e9d7",
   "metadata": {},
   "outputs": [
    {
     "data": {
      "image/png": "[encoded data removed]",
      "text/plain": [
       "<Figure size 640x480 with 1 Axes>"
      ]
     },
     "metadata": {},
     "output_type": "display_data"
    }
   ],
   "source": [
    "import numpy as np\n",
    "\n",
    "data = car_data[\"price\"]\n",
    "plt.hist(data, bins=30, edgecolor='black')\n",
    "mean_value = np.mean(data)\n",
    "median_value = np.median(data)\n",
    "plt.title(\"Histogram of price attribute\")\n",
    "plt.yscale(\"log\")\n",
    "plt.ylabel(\"Frequency (logarythmic scale)\")\n",
    "plt.xlabel('Price')\n",
    "plt.axvline(mean_value, color='red', linestyle='dashed', linewidth=2, label=f'Mean: {mean_value:.2f}')\n",
    "plt.axvline(median_value, color='green', linestyle='dashed', linewidth=2, label=f'Median: {median_value:.2f}')\n",
    "plt.legend()\n",
    "plt.show()"
   ]
  },
  {
   "cell_type": "markdown",
   "id": "05c89391",
   "metadata": {},
   "source": [
    "### Model selection and prepararions\n",
    "\n",
    "In our project we are going to use and compare KNN regression and random forest regression.\n",
    "\n",
    "Before we go any further, we should convert all of the non-numerical attributes to numerical values."
   ]
  },
  {
   "cell_type": "code",
   "execution_count": 35,
   "id": "085a56f4",
   "metadata": {},
   "outputs": [
    {
     "name": "stdout",
     "output_type": "stream",
     "text": [
      "Column 'maker' has 67 unique categories.\n",
      "Column 'genmodel' has 773 unique categories.\n",
      "Column 'color' has 22 unique categories.\n",
      "Column 'bodytype' has 18 unique categories.\n",
      "Column 'gearbox' has 3 unique categories.\n",
      "Column 'fuel_type' has 13 unique categories.\n"
     ]
    }
   ],
   "source": [
    "categorical_columns = car_data.select_dtypes(include=['object']).columns\n",
    "\n",
    "unique_category_counts = {}\n",
    "\n",
    "for column in categorical_columns:\n",
    "    unique_categories = car_data[column].nunique()\n",
    "    unique_category_counts[column] = unique_categories\n",
    "\n",
    "for column, count in unique_category_counts.items():\n",
    "    print(f\"Column '{column}' has {count} unique categories.\")"
   ]
  },
  {
   "cell_type": "markdown",
   "id": "0d9210ae",
   "metadata": {},
   "source": [
    "Since the **gearbox** attribute only has 3 categories, we can use one-hot encoding for that one. However, the other columns have a large number of unique categories, hence one-hot encoding will not be a great choice for them because it would make the future computations very inefficient and also it would expose us to the curse of dimentionality. Another approach is to use label encoding, however this one will introduce an artificial ordering which is not beneficial. A good idea would be to use target encoding, where for each category the mean of the price for the samples with this category in the training set would be used. However, we need to make sure that only the price values from the training set are used to avoid data leakage from the test sets."
   ]
  },
  {
   "cell_type": "code",
   "execution_count": 36,
   "id": "b0b0f204",
   "metadata": {},
   "outputs": [],
   "source": [
    "from sklearn.impute import KNNImputer\n",
    "\n",
    "def one_hot_encode(df, columns_to_encode):\n",
    "    return pd.get_dummies(df, columns=columns_to_encode)\n",
    "\n",
    "def standardize_data(df, scaler):\n",
    "    df_standardized = scaler.transform(df)\n",
    "    return df_standardized\n",
    "    "
   ]
  },
  {
   "cell_type": "markdown",
   "id": "ea3923ae",
   "metadata": {},
   "source": [
    "Above we have defined a number of utility functions. The *mean_target_encoding* function combined with *taret_encode* are going to be used to encode the categorical attributes using the mean encoding method. The *one_hot_encode* is obviously used for one-hot encoding. <br>\n",
    "\n",
    "Before we proceed any further, we should extract a test set from our dataset that will be used for comparing the two regressors after they are trained and tuned."
   ]
  },
  {
   "cell_type": "code",
   "execution_count": 37,
   "id": "0fc3a12a",
   "metadata": {},
   "outputs": [],
   "source": [
    "from sklearn.model_selection import train_test_split\n",
    "\n",
    "intermediate_set, comparison_test_set = train_test_split(car_data, test_size=0.2, random_state=42)\n",
    "car_data_train_set, car_data_validation_set = train_test_split(intermediate_set, test_size=0.25, random_state=42)"
   ]
  },
  {
   "cell_type": "markdown",
   "id": "2ae5ba01",
   "metadata": {},
   "source": [
    "Here we will quickly perform a test and a visualisation of the target encoding method."
   ]
  },
  {
   "cell_type": "raw",
   "id": "d42c9b62",
   "metadata": {},
   "source": [
    "from sklearn.preprocessing import TargetEncoder\n",
    "\n",
    "train_set_before_encoding = car_data_train_set.copy()\n",
    "train_set_price = train_set_before_encoding.pop(\"price\")\n",
    "test_encoder = TargetEncoder(target_type=\"continuous\")\n",
    "\n",
    "test_encoder.fit(train_set_before_encoding, train_set_price)\n",
    "\n",
    "encodings = test_encoder.encodings_[0]\n",
    "brands = test_encoder.categories_[0]\n",
    "\n",
    "plt.figure(figsize=(12, 5))\n",
    "plt.bar(brands, encodings)\n",
    "plt.ylabel(\"Encoding (Price)\")\n",
    "plt.title(\"Encoding (Price) by Brand\")\n",
    "plt.xticks(rotation=90, ha=\"right\")\n",
    "plt.tight_layout()\n",
    "plt.show()"
   ]
  },
  {
   "cell_type": "markdown",
   "id": "b8dda85a",
   "metadata": {},
   "source": [
    "### Tuning hyperparameters"
   ]
  },
  {
   "cell_type": "markdown",
   "id": "56520cab",
   "metadata": {},
   "source": [
    "Now it is time to split our dataset into train and test sets for cross-validation and tune the hyperparameters of our models. Here we only use 3 folds in CV because of limited computing resources. (This section has been turned off because it takes an extensive amount of time for someone that would just want to run the code to play with the final models. If you would like to run this part yourself, change the cell type from raw to markdown.)"
   ]
  },
  {
   "cell_type": "raw",
   "id": "14d5e537",
   "metadata": {},
   "source": [
    "from sklearn.model_selection import KFold\n",
    "from sklearn.preprocessing import StandardScaler, TargetEncoder\n",
    "from sklearn.neighbors import KNeighborsRegressor\n",
    "from sklearn.metrics import mean_squared_error\n",
    "import numpy as np\n",
    "\n",
    "n_folds = 3 # As the dataset is pretty big only 3 folds were used to speed up the process\n",
    "k_neighbors_wide = [3,10,20,40,70]\n",
    "k_neighbors_narrow = [1,2,4,6,8,10,12,14,16,18,20,22,24,26, 28,30]\n",
    "mean_error_list = []\n",
    "\n",
    "kf = KFold(n_splits=n_folds, shuffle=True, random_state=42)\n",
    "\n",
    "for k in k_neighbors_wide:\n",
    "    k_error_list = []\n",
    "    for fold, (train_idx, validation_idx) in enumerate(kf.split(car_data_validation_set)):\n",
    "        train_set = car_data_validation_set.iloc[train_idx].copy()\n",
    "        validation_set = car_data_validation_set.iloc[validation_idx].copy()\n",
    "        \n",
    "        columns_to_encode = [\"maker\", \"genmodel\", \"color\", \"bodytype\", \"fuel_type\"]\n",
    "\n",
    "        target_encoder = TargetEncoder(target_type=\"continuous\")\n",
    "        \n",
    "        train_target_var = train_set.pop(\"price\")\n",
    "        \n",
    "        if train_target_var.isnull().any():\n",
    "            raise ValueError(\"NaN values found in the target variable.\")\n",
    "            \n",
    "        train_target_var = train_target_var.values\n",
    "        \n",
    "        train_set = one_hot_encode(train_set, [\"gearbox\"])\n",
    "        target_encoder.fit(train_set, train_target_var)\n",
    "        train_set = target_encoder.transform(train_set)\n",
    "        \n",
    "        validation_target_var = validation_set.pop(\"price\")\n",
    "        \n",
    "        if validation_target_var.isnull().any():\n",
    "            raise ValueError(\"NaN values found in the target variable of the validation set.\")\n",
    "        \n",
    "        validation_target_var = validation_target_var.values\n",
    "        \n",
    "        validation_set = one_hot_encode(validation_set, [\"gearbox\"])\n",
    "        validation_set = target_encoder.transform(validation_set)\n",
    "\n",
    "        scaler = StandardScaler()\n",
    "        scaler.fit(train_set)\n",
    "        train_set = scaler.transform(train_set)\n",
    "        validation_set = scaler.transform(validation_set)\n",
    "\n",
    "        knn_regressor = KNeighborsRegressor(n_neighbors=k)\n",
    "\n",
    "        knn_regressor.fit(train_set, train_target_var)\n",
    "\n",
    "        target_var_pred = knn_regressor.predict(validation_set)\n",
    "        \n",
    "        mse = mean_squared_error(validation_target_var, target_var_pred)\n",
    "        print(f\"Error for k={k}: {mse}\")\n",
    "        k_error_list.append(mse)\n",
    "    mean_error_list.append(np.mean(k_error_list))\n",
    "    print(f\"Mean for k={k}: {np.mean(k_error_list)}\")"
   ]
  },
  {
   "cell_type": "raw",
   "id": "7cd07daa",
   "metadata": {},
   "source": [
    "plt.figure(figsize=(8, 6))\n",
    "plt.plot(k_neighbors_wide, mean_error_list, marker='o', linestyle='-')\n",
    "plt.xlabel('Number of Neighbors (k)')\n",
    "plt.ylabel('Mean Squared Error')\n",
    "plt.title('Average Error vs. Number of Neighbors (k)')\n",
    "plt.gca().xaxis.set_major_locator(plt.FixedLocator(k_neighbors_))\n",
    "plt.gca().xaxis.set_major_formatter(plt.ScalarFormatter())\n",
    "plt.grid(True)\n",
    "plt.show()"
   ]
  },
  {
   "cell_type": "markdown",
   "id": "99f16755",
   "metadata": {},
   "source": [
    "Based on the result of the hyperparameter tuning above we will set the number of neighbors to 6.<br><br>\n",
    "\n",
    "Now we shall do the same for the random forest regression model."
   ]
  },
  {
   "cell_type": "raw",
   "id": "d8fd68d0",
   "metadata": {},
   "source": [
    "from sklearn.tree import DecisionTreeRegressor\n",
    "from sklearn.ensemble import RandomForestRegressor\n",
    "from sklearn.model_selection import KFold\n",
    "from sklearn.preprocessing import StandardScaler, TargetEncoder\n",
    "from sklearn.metrics import mean_squared_error\n",
    "import numpy as np\n",
    "\n",
    "n_folds = 3 # As the dataset is pretty big only 3 folds were used to speed up the process\n",
    "\n",
    "kf = KFold(n_splits=n_folds, shuffle=True, random_state=42)\n",
    "\n",
    "numbers_of_estimators = [10, 30, 50, 100, 200, 300]\n",
    "max_depths = [50, 20, 10, 8, 5, 3]\n",
    "\n",
    "n_estimators_and_max_depth_results = {}\n",
    "\n",
    "for number_of_estimators in numbers_of_estimators:\n",
    "    for max_depth in max_depths:\n",
    "        errors = []\n",
    "        for fold, (train_idx, validation_idx) in enumerate(kf.split(car_data_validation_set)):\n",
    "            train_set = car_data_validation_set.iloc[train_idx].copy()\n",
    "            validation_set = car_data_validation_set.iloc[validation_idx].copy()\n",
    "\n",
    "            columns_to_encode = [\"maker\", \"genmodel\", \"color\", \"bodytype\", \"fuel_type\"]\n",
    "\n",
    "            target_encoder = TargetEncoder(target_type=\"continuous\")\n",
    "\n",
    "            train_target_var = train_set.pop(\"price\")\n",
    "\n",
    "            if train_target_var.isnull().any():\n",
    "                raise ValueError(\"NaN values found in the target variable.\")\n",
    "\n",
    "            train_target_var = train_target_var.values\n",
    "\n",
    "            train_set = one_hot_encode(train_set, [\"gearbox\"])\n",
    "            target_encoder.fit(train_set, train_target_var)\n",
    "            train_set = target_encoder.transform(train_set)\n",
    "\n",
    "            validation_target_var = validation_set.pop(\"price\")\n",
    "\n",
    "            if validation_target_var.isnull().any():\n",
    "                raise ValueError(\"NaN values found in the target variable of the validation set.\")\n",
    "\n",
    "            validation_target_var = validation_target_var.values\n",
    "\n",
    "            validation_set = one_hot_encode(validation_set, [\"gearbox\"])\n",
    "            validation_set = target_encoder.transform(validation_set)\n",
    "\n",
    "            scaler = StandardScaler()\n",
    "            scaler.fit(train_set)\n",
    "            train_set = scaler.transform(train_set)\n",
    "            validation_set = scaler.transform(validation_set)\n",
    "\n",
    "            tree_regressor = RandomForestRegressor(max_depth=max_depth, n_estimators=number_of_estimators)\n",
    "\n",
    "            tree_regressor.fit(train_set, train_target_var)\n",
    "\n",
    "            target_var_pred = tree_regressor.predict(validation_set)\n",
    "\n",
    "            mse = mean_squared_error(validation_target_var, target_var_pred)\n",
    "            errors.append(mse)\n",
    "        result = np.mean(errors)\n",
    "        n_estimators_and_max_depth_results[(number_of_estimators, max_depth)] = result\n",
    "        print(f\"Error for n-estimators={number_of_estimators} and max_depth={max_depth}: {mse}\")"
   ]
  },
  {
   "cell_type": "raw",
   "id": "2700d848",
   "metadata": {},
   "source": [
    "import matplotlib.pyplot as plt\n",
    "\n",
    "max_depth_50_errors = [n_estimators_and_max_depth_results[(n, 50)] for n in numbers_of_estimators]\n",
    "max_depth_20_errors = [n_estimators_and_max_depth_results[(n, 20)] for n in numbers_of_estimators]\n",
    "max_depth_10_errors = [n_estimators_and_max_depth_results[(n, 10)] for n in numbers_of_estimators]\n",
    "max_depth_8_errors = [n_estimators_and_max_depth_results[(n, 8)] for n in numbers_of_estimators]\n",
    "max_depth_5_errors = [n_estimators_and_max_depth_results[(n, 5)] for n in numbers_of_estimators]\n",
    "max_depth_3_errors = [n_estimators_and_max_depth_results[(n, 3)] for n in numbers_of_estimators]\n",
    "\n",
    "labels = [\"max_depth=50\", \"max_depth=20\", \"max_depth=10\", \"max_depth=8\", \"max_depth=5\", \"max_depth=3\"]\n",
    "\n",
    "plt.figure(figsize=(10, 6))\n",
    "\n",
    "plt.plot(numbers_of_estimators, max_depth_50_errors, label=labels[0], marker='o', linestyle='-')\n",
    "plt.plot(numbers_of_estimators, max_depth_20_errors, label=labels[1], marker='o', linestyle='-')\n",
    "plt.plot(numbers_of_estimators, max_depth_10_errors, label=labels[2], marker='o', linestyle='-')\n",
    "plt.plot(numbers_of_estimators, max_depth_8_errors, label=labels[3], marker='o', linestyle='-')\n",
    "plt.plot(numbers_of_estimators, max_depth_5_errors, label=labels[4], marker='o', linestyle='-')\n",
    "plt.plot(numbers_of_estimators, max_depth_3_errors, label=labels[5], marker='o', linestyle='-')\n",
    "\n",
    "plt.gca().xaxis.set_major_locator(plt.FixedLocator(numbers_of_estimators))\n",
    "plt.gca().xaxis.set_major_formatter(plt.ScalarFormatter())\n",
    "\n",
    "plt.xlabel(\"Number of Estimators\")\n",
    "plt.ylabel(\"Mean Squared Error (logarithmic scale)\")\n",
    "plt.title(\"Mean Squared Error vs. Number of Estimators for Different Max Depths\")\n",
    "\n",
    "plt.legend()\n",
    "\n",
    "plt.yscale('log')\n",
    "\n",
    "plt.grid(True)\n",
    "plt.show()"
   ]
  },
  {
   "cell_type": "markdown",
   "id": "147fd19c",
   "metadata": {},
   "source": [
    "Based on the above, we can see that the smallest error is observed for max_depth = 50 and n_estimators = 50. However, we are going to choose the combination of max_depth = 10, n_estimators = 50 due to Ockham's razor principle hoping that this setting will generalize to unseen data better instead of overfitting the training set."
   ]
  },
  {
   "cell_type": "markdown",
   "id": "6a75e473",
   "metadata": {},
   "source": [
    "### Training and comparing the models"
   ]
  },
  {
   "cell_type": "markdown",
   "id": "d7090135",
   "metadata": {},
   "source": [
    "Finally, we are going to train both the regressors and then evaluate and compare them using various metrics and visualisation methods."
   ]
  },
  {
   "cell_type": "code",
   "execution_count": 38,
   "id": "57d9e273",
   "metadata": {},
   "outputs": [
    {
     "name": "stdout",
     "output_type": "stream",
     "text": [
      "Error for knn : 115040656.44473892\n",
      "Error for random forest: 41082706.440559655\n"
     ]
    }
   ],
   "source": [
    "from sklearn.tree import DecisionTreeRegressor\n",
    "from sklearn.ensemble import RandomForestRegressor\n",
    "from sklearn.neighbors import KNeighborsRegressor\n",
    "from sklearn.model_selection import KFold\n",
    "from sklearn.preprocessing import StandardScaler, TargetEncoder\n",
    "from sklearn.metrics import mean_squared_error\n",
    "import numpy as np\n",
    "\n",
    "train_set = car_data_train_set.copy()\n",
    "test_set = comparison_test_set.copy()\n",
    "\n",
    "columns_to_encode = [\"maker\", \"genmodel\", \"color\", \"bodytype\", \"fuel_type\"]\n",
    "\n",
    "target_encoder = TargetEncoder(target_type=\"continuous\")\n",
    "\n",
    "train_target_var = car_data_train_set.pop(\"price\")\n",
    "\n",
    "if train_target_var.isnull().any():\n",
    "    raise ValueError(\"NaN values found in the target variable.\")\n",
    "\n",
    "train_target_var = train_target_var.values\n",
    "\n",
    "train_set = one_hot_encode(car_data_train_set, [\"gearbox\"])\n",
    "target_encoder.fit(train_set, train_target_var)\n",
    "train_set = target_encoder.transform(train_set)\n",
    "\n",
    "test_target_var = test_set.pop(\"price\")\n",
    "\n",
    "if test_target_var.isnull().any():\n",
    "    raise ValueError(\"NaN values found in the target variable of the validation set.\")\n",
    "\n",
    "test_target_var = test_target_var.values\n",
    "\n",
    "test_set = one_hot_encode(test_set, [\"gearbox\"])\n",
    "test_set = target_encoder.transform(test_set)\n",
    "\n",
    "scaler = StandardScaler()\n",
    "scaler.fit(train_set)\n",
    "train_set = scaler.transform(train_set)\n",
    "test_set = scaler.transform(test_set)\n",
    "\n",
    "knn_regressor = KNeighborsRegressor(n_neighbors=6)\n",
    "random_forest = RandomForestRegressor(max_depth=10, n_estimators=50)\n",
    "\n",
    "knn_regressor.fit(train_set, train_target_var)\n",
    "random_forest.fit(train_set, train_target_var)\n",
    "\n",
    "random_forest_pred = random_forest.predict(test_set)\n",
    "knn_pred = knn_regressor.predict(test_set)\n",
    "\n",
    "knn_mse = mean_squared_error(test_target_var, knn_pred)\n",
    "random_forest_mse = mean_squared_error(test_target_var, random_forest_pred)\n",
    "\n",
    "print(f\"Error for knn : {knn_mse}\")\n",
    "print(f\"Error for random forest: {random_forest_mse}\")"
   ]
  },
  {
   "cell_type": "code",
   "execution_count": 39,
   "id": "8b09b566",
   "metadata": {},
   "outputs": [
    {
     "name": "stdout",
     "output_type": "stream",
     "text": [
      "Error for random forest: 41082706.440559655\n",
      "Error for random forest (MAE): 2528.160493026044\n",
      "Error for knn (MAE): 2805.4381262431043\n"
     ]
    }
   ],
   "source": [
    "from sklearn.metrics import mean_absolute_error\n",
    "\n",
    "random_forest_pred = random_forest.predict(test_set)\n",
    "random_forest_mse = mean_squared_error(test_target_var, random_forest_pred)\n",
    "print(f\"Error for random forest: {random_forest_mse}\")\n",
    "mae_rn = mean_absolute_error(y_true=test_target_var, y_pred=random_forest_pred)\n",
    "print(f\"Error for random forest (MAE): {mean_absolute_error(y_true=test_target_var, y_pred=random_forest_pred)}\")\n",
    "print(f\"Error for knn (MAE): {mean_absolute_error(y_true=test_target_var, y_pred=knn_pred)}\")"
   ]
  },
  {
   "cell_type": "code",
   "execution_count": 55,
   "id": "e72784de",
   "metadata": {},
   "outputs": [
    {
     "name": "stdout",
     "output_type": "stream",
     "text": [
      "0.28474305155232305\n",
      "0.29553369890816894\n"
     ]
    }
   ],
   "source": [
    "mean_relative_rf = np.mean(abs(test_target_var - random_forest_pred)/test_target_var)\n",
    "mean_relative_knn = np.mean(abs(test_target_var - knn_pred)/test_target_var)\n",
    "\n",
    "print(mean_relative_rf)\n",
    "print(mean_relative_knn)"
   ]
  },
  {
   "cell_type": "markdown",
   "id": "8927cae4",
   "metadata": {},
   "source": [
    "Here we are performing significance testing to see if the difference in performances of both models is statistically meaningful."
   ]
  },
  {
   "cell_type": "code",
   "execution_count": 56,
   "id": "0e472c3f",
   "metadata": {},
   "outputs": [
    {
     "data": {
      "image/png": "[encoded data removed]",
      "text/plain": [
       "<Figure size 640x480 with 1 Axes>"
      ]
     },
     "metadata": {},
     "output_type": "display_data"
    },
    {
     "data": {
      "image/png": "[encoded data removed]",
      "text/plain": [
       "<Figure size 640x480 with 1 Axes>"
      ]
     },
     "metadata": {},
     "output_type": "display_data"
    },
    {
     "name": "stdout",
     "output_type": "stream",
     "text": [
      "Reject null hypothesis: There's a significant difference in errors.\n",
      "p-value: 1.065482905917102e-05\n"
     ]
    }
   ],
   "source": [
    "from scipy.stats import ttest_rel\n",
    "\n",
    "errors_knn = abs(test_target_var - knn_pred)/test_target_var + 0.1\n",
    "errors_rf = abs(test_target_var - random_forest_pred)/test_target_var + 0.1\n",
    "\n",
    "errors_knn_transformed = np.log(errors_knn)\n",
    "errors_rf_transformed = np.log(errors_rf)\n",
    "\n",
    "plt.hist(errors_rf, bins=100)\n",
    "plt.xlabel(\"Erorrs RF\")\n",
    "plt.ylabel(\"Frequency\")\n",
    "plt.title(\"Distribution of RF errors\")\n",
    "plt.yscale(\"log\")\n",
    "plt.show()\n",
    "\n",
    "plt.hist(errors_rf_transformed, bins=100)\n",
    "plt.xlabel(\"Erorrs RF\")\n",
    "plt.ylabel(\"Frequency\")\n",
    "plt.title(\"Distribution of transformed RF errors\")\n",
    "plt.yscale(\"log\")\n",
    "plt.show()\n",
    "\n",
    "t_statistic, p_value = ttest_rel(errors_knn, errors_rf, alternative=\"greater\")\n",
    "\n",
    "alpha = 0.05\n",
    "\n",
    "if p_value < alpha:\n",
    "    print(\"Reject null hypothesis\")\n",
    "else:\n",
    "    print(\"Fail to reject null hypothesis\")\n",
    "    \n",
    "print(f\"p-value: {p_value}\")"
   ]
  },
  {
   "cell_type": "code",
   "execution_count": 54,
   "id": "6b238f21",
   "metadata": {
    "scrolled": false
   },
   "outputs": [
    {
     "data": {
      "image/png": "[encoded data removed]",
      "text/plain": [
       "<Figure size 600x600 with 1 Axes>"
      ]
     },
     "metadata": {},
     "output_type": "display_data"
    }
   ],
   "source": [
    "test_set_copy = comparison_test_set.copy()\n",
    "train_set_copy = car_data_train_set.copy()\n",
    "\n",
    "test_set_copy[\"knn_price\"] = knn_pred\n",
    "test_set_copy[\"rf_price\"] = random_forest_pred\n",
    "\n",
    "\n",
    "sorted_test_set_copy = test_set_copy.sort_values(by=\"maker\")\n",
    "sorted_train_set_copy = train_set_copy.sort_values(by=\"maker\")\n",
    "sorted_test_set_copy[\"knn_absolute_error\"] = abs(sorted_test_set_copy[\"price\"] - sorted_test_set_copy[\"knn_price\"])/sorted_test_set_copy[\"price\"]\n",
    "sorted_test_set_copy[\"rf_absolute_error\"] = abs(sorted_test_set_copy[\"price\"] - sorted_test_set_copy[\"rf_price\"])/sorted_test_set_copy[\"price\"]\n",
    "model_mean_error_knn = sorted_test_set_copy.groupby('maker')['knn_absolute_error'].mean().to_dict()\n",
    "model_mean_error_rf = sorted_test_set_copy.groupby('maker')['rf_absolute_error'].mean().to_dict()\n",
    "\n",
    "model_count = sorted_train_set_copy.groupby('maker')[\"maker\"].count().to_dict()\n",
    "sorted_model_count = dict(sorted(model_count.items(), key=lambda item: int(item[1])))\n",
    "\n",
    "def consecutive_counts(sorted_list):\n",
    "    result = []\n",
    "    current_count = 1\n",
    "    for i in range(1, len(sorted_list)):\n",
    "        if sorted_list[i] == sorted_list[i-1]:\n",
    "            current_count += 1\n",
    "        else:\n",
    "            result.append(current_count)\n",
    "            current_count = 1\n",
    "    result.append(current_count)\n",
    "    return result\n",
    "\n",
    "models = list(sorted_model_count.keys())\n",
    "rf_mean_errors = []\n",
    "knn_mean_errors = []\n",
    "\n",
    "for count in consecutive_counts(list(sorted_model_count.values())):\n",
    "    current_knn_errors = []\n",
    "    current_rf_errors = []\n",
    "    for _ in range(0, count):\n",
    "        current_model = models.pop(0)\n",
    "        \n",
    "        current_knn_error = model_mean_error_knn.get(current_model)\n",
    "        current_rf_error = model_mean_error_rf.get(current_model)\n",
    "        \n",
    "        if current_knn_error and current_rf_error:\n",
    "            current_knn_errors.append(current_knn_error)\n",
    "            current_rf_errors.append(current_rf_error)\n",
    "    \n",
    "    rf_mean_errors.append(np.mean(current_rf_errors))\n",
    "    knn_mean_errors.append(np.mean(current_knn_errors))\n",
    "\n",
    "counts = []\n",
    "\n",
    "for count in sorted_model_count.values():\n",
    "    if count not in counts:\n",
    "        counts.append(count)\n",
    "        \n",
    "plt.figure(figsize=(6, 6))\n",
    "plt.plot(counts, rf_mean_errors, color=\"blue\", alpha=0.6, label=\"Random Forest\")\n",
    "plt.plot(counts, knn_mean_errors, color=\"red\", alpha=0.6, label=\"KNN\")\n",
    "plt.axhline(y=mean_relative_rf, color='b', linestyle='--', label=\"Random Forest Mean\")\n",
    "plt.axhline(y=mean_relative_knn, color='r', linestyle='--', label=\"KNN Mean\")\n",
    "plt.xlim(-100, 3000)\n",
    "plt.title(\"Mean absolute relative error vs count of instances of the maker category \")\n",
    "plt.xlabel(\"Count of instances in the maker category\")\n",
    "plt.ylabel(\"Mean absolute relative error\")\n",
    "plt.legend()\n",
    "plt.show()"
   ]
  },
  {
   "cell_type": "markdown",
   "id": "668627b0",
   "metadata": {},
   "source": [
    "Here a mean naive baseline model has been created to see how does it compare to our two models."
   ]
  },
  {
   "cell_type": "code",
   "execution_count": 57,
   "id": "c80f2019",
   "metadata": {},
   "outputs": [
    {
     "data": {
      "text/plain": [
       "53294"
      ]
     },
     "execution_count": 57,
     "metadata": {},
     "output_type": "execute_result"
    }
   ],
   "source": [
    "mean_regressor_pred = [np.mean(train_target_var) for _ in test_target_var]"
   ]
  },
  {
   "cell_type": "code",
   "execution_count": 59,
   "id": "a1e2a514",
   "metadata": {},
   "outputs": [
    {
     "name": "stdout",
     "output_type": "stream",
     "text": [
      "483934946.0892285\n",
      "10840.439838618808\n",
      "2.118914232127311\n"
     ]
    }
   ],
   "source": [
    "mean_squared_mean = mean_squared_error(test_target_var, mean_regressor_pred)\n",
    "mae_mean = mean_absolute_error(y_true=test_target_var, y_pred=mean_regressor_pred)\n",
    "mean_relative_mean = np.mean(abs(test_target_var - mean_regressor_pred)/test_target_var)\n",
    "\n",
    "print(mean_squared_mean)\n",
    "print(mae_mean)\n",
    "print(mean_relative_mean)"
   ]
  }
 ],
 "metadata": {
  "kernelspec": {
   "display_name": "Python 3 (ipykernel)",
   "language": "python",
   "name": "python3"
  },
  "language_info": {
   "codemirror_mode": {
    "name": "ipython",
    "version": 3
   },
   "file_extension": ".py",
   "mimetype": "text/x-python",
   "name": "python",
   "nbconvert_exporter": "python",
   "pygments_lexer": "ipython3",
   "version": "3.11.4"
  }
 },
 "nbformat": 4,
 "nbformat_minor": 5
}
