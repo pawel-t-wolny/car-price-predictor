{
 "cells": [
  {
   "cell_type": "markdown",
   "id": "d7597565",
   "metadata": {},
   "source": [
    "### Reading the data \n",
    "\n",
    "First we have to read our car sales data from the CSV file into a Pandas dataframe."
   ]
  },
  {
   "cell_type": "code",
   "execution_count": 1,
   "id": "7cd949ae",
   "metadata": {},
   "outputs": [],
   "source": [
    "import pandas as pd\n",
    "import matplotlib.pyplot as plt\n",
    "\n",
    "\n",
    "# This line requires the car sales data to be located in a folder called data in the same directory as the notebook\n",
    "car_data = pd.read_csv(\"./data/car_sales.csv\", low_memory=False)"
   ]
  },
  {
   "cell_type": "markdown",
   "id": "4e1d84df",
   "metadata": {},
   "source": [
    "Now, let's take a first look at how our data looks like."
   ]
  },
  {
   "cell_type": "code",
   "execution_count": 2,
   "id": "a41c6c1b",
   "metadata": {},
   "outputs": [
    {
     "data": {
      "text/html": [
       "<div>\n",
       "<style scoped>\n",
       "    .dataframe tbody tr th:only-of-type {\n",
       "        vertical-align: middle;\n",
       "    }\n",
       "\n",
       "    .dataframe tbody tr th {\n",
       "        vertical-align: top;\n",
       "    }\n",
       "\n",
       "    .dataframe thead th {\n",
       "        text-align: right;\n",
       "    }\n",
       "</style>\n",
       "<table border=\"1\" class=\"dataframe\">\n",
       "  <thead>\n",
       "    <tr style=\"text-align: right;\">\n",
       "      <th></th>\n",
       "      <th>Maker</th>\n",
       "      <th>Genmodel</th>\n",
       "      <th>Genmodel_ID</th>\n",
       "      <th>Adv_ID</th>\n",
       "      <th>Adv_year</th>\n",
       "      <th>Adv_month</th>\n",
       "      <th>Color</th>\n",
       "      <th>Reg_year</th>\n",
       "      <th>Bodytype</th>\n",
       "      <th>Runned_Miles</th>\n",
       "      <th>Engin_size</th>\n",
       "      <th>Gearbox</th>\n",
       "      <th>Fuel_type</th>\n",
       "      <th>Price</th>\n",
       "      <th>Seat_num</th>\n",
       "      <th>Door_num</th>\n",
       "    </tr>\n",
       "  </thead>\n",
       "  <tbody>\n",
       "    <tr>\n",
       "      <th>0</th>\n",
       "      <td>Bentley</td>\n",
       "      <td>Arnage</td>\n",
       "      <td>10_1</td>\n",
       "      <td>10_1$$1</td>\n",
       "      <td>2018</td>\n",
       "      <td>4</td>\n",
       "      <td>Silver</td>\n",
       "      <td>2000.0</td>\n",
       "      <td>Saloon</td>\n",
       "      <td>60000</td>\n",
       "      <td>6.8L</td>\n",
       "      <td>Automatic</td>\n",
       "      <td>Petrol</td>\n",
       "      <td>21500</td>\n",
       "      <td>5.0</td>\n",
       "      <td>4.0</td>\n",
       "    </tr>\n",
       "    <tr>\n",
       "      <th>1</th>\n",
       "      <td>Bentley</td>\n",
       "      <td>Arnage</td>\n",
       "      <td>10_1</td>\n",
       "      <td>10_1$$2</td>\n",
       "      <td>2018</td>\n",
       "      <td>6</td>\n",
       "      <td>Grey</td>\n",
       "      <td>2002.0</td>\n",
       "      <td>Saloon</td>\n",
       "      <td>44000</td>\n",
       "      <td>6.8L</td>\n",
       "      <td>Automatic</td>\n",
       "      <td>Petrol</td>\n",
       "      <td>28750</td>\n",
       "      <td>5.0</td>\n",
       "      <td>4.0</td>\n",
       "    </tr>\n",
       "    <tr>\n",
       "      <th>2</th>\n",
       "      <td>Bentley</td>\n",
       "      <td>Arnage</td>\n",
       "      <td>10_1</td>\n",
       "      <td>10_1$$3</td>\n",
       "      <td>2017</td>\n",
       "      <td>11</td>\n",
       "      <td>Blue</td>\n",
       "      <td>2002.0</td>\n",
       "      <td>Saloon</td>\n",
       "      <td>55000</td>\n",
       "      <td>6.8L</td>\n",
       "      <td>Automatic</td>\n",
       "      <td>Petrol</td>\n",
       "      <td>29999</td>\n",
       "      <td>5.0</td>\n",
       "      <td>4.0</td>\n",
       "    </tr>\n",
       "    <tr>\n",
       "      <th>3</th>\n",
       "      <td>Bentley</td>\n",
       "      <td>Arnage</td>\n",
       "      <td>10_1</td>\n",
       "      <td>10_1$$4</td>\n",
       "      <td>2018</td>\n",
       "      <td>4</td>\n",
       "      <td>Green</td>\n",
       "      <td>2003.0</td>\n",
       "      <td>Saloon</td>\n",
       "      <td>14000</td>\n",
       "      <td>6.8L</td>\n",
       "      <td>Automatic</td>\n",
       "      <td>Petrol</td>\n",
       "      <td>34948</td>\n",
       "      <td>5.0</td>\n",
       "      <td>4.0</td>\n",
       "    </tr>\n",
       "    <tr>\n",
       "      <th>4</th>\n",
       "      <td>Bentley</td>\n",
       "      <td>Arnage</td>\n",
       "      <td>10_1</td>\n",
       "      <td>10_1$$5</td>\n",
       "      <td>2017</td>\n",
       "      <td>11</td>\n",
       "      <td>Grey</td>\n",
       "      <td>2003.0</td>\n",
       "      <td>Saloon</td>\n",
       "      <td>61652</td>\n",
       "      <td>6.8L</td>\n",
       "      <td>Automatic</td>\n",
       "      <td>Petrol</td>\n",
       "      <td>26555</td>\n",
       "      <td>5.0</td>\n",
       "      <td>4.0</td>\n",
       "    </tr>\n",
       "  </tbody>\n",
       "</table>\n",
       "</div>"
      ],
      "text/plain": [
       "     Maker Genmodel Genmodel_ID   Adv_ID  Adv_year  Adv_month   Color  \\\n",
       "0  Bentley   Arnage        10_1  10_1$$1      2018          4  Silver   \n",
       "1  Bentley   Arnage        10_1  10_1$$2      2018          6    Grey   \n",
       "2  Bentley   Arnage        10_1  10_1$$3      2017         11    Blue   \n",
       "3  Bentley   Arnage        10_1  10_1$$4      2018          4   Green   \n",
       "4  Bentley   Arnage        10_1  10_1$$5      2017         11    Grey   \n",
       "\n",
       "   Reg_year Bodytype Runned_Miles Engin_size    Gearbox Fuel_type  Price  \\\n",
       "0    2000.0   Saloon        60000       6.8L  Automatic    Petrol  21500   \n",
       "1    2002.0   Saloon        44000       6.8L  Automatic    Petrol  28750   \n",
       "2    2002.0   Saloon        55000       6.8L  Automatic    Petrol  29999   \n",
       "3    2003.0   Saloon        14000       6.8L  Automatic    Petrol  34948   \n",
       "4    2003.0   Saloon        61652       6.8L  Automatic    Petrol  26555   \n",
       "\n",
       "   Seat_num  Door_num  \n",
       "0       5.0       4.0  \n",
       "1       5.0       4.0  \n",
       "2       5.0       4.0  \n",
       "3       5.0       4.0  \n",
       "4       5.0       4.0  "
      ]
     },
     "execution_count": 2,
     "metadata": {},
     "output_type": "execute_result"
    }
   ],
   "source": [
    "car_data.head()"
   ]
  },
  {
   "cell_type": "markdown",
   "id": "f537cc60",
   "metadata": {},
   "source": [
    "### Initial cleanup and analysis of the data\n",
    "\n",
    "For covenience, we will set all of the column names to lowercase."
   ]
  },
  {
   "cell_type": "code",
   "execution_count": 3,
   "id": "a8a1d44c",
   "metadata": {},
   "outputs": [],
   "source": [
    "car_data.columns = car_data.columns.str.lower()"
   ]
  },
  {
   "cell_type": "code",
   "execution_count": 4,
   "id": "5f1b4407",
   "metadata": {},
   "outputs": [
    {
     "name": "stdout",
     "output_type": "stream",
     "text": [
      "<class 'pandas.core.frame.DataFrame'>\n",
      "RangeIndex: 268255 entries, 0 to 268254\n",
      "Data columns (total 16 columns):\n",
      " #   Column        Non-Null Count   Dtype  \n",
      "---  ------        --------------   -----  \n",
      " 0   maker         268255 non-null  object \n",
      " 1   genmodel      268255 non-null  object \n",
      " 2   genmodel_id   268255 non-null  object \n",
      " 3   adv_id        268255 non-null  object \n",
      " 4   adv_year      268255 non-null  int64  \n",
      " 5   adv_month     268255 non-null  int64  \n",
      " 6   color         246380 non-null  object \n",
      " 7   reg_year      268248 non-null  float64\n",
      " 8   bodytype      267301 non-null  object \n",
      " 9   runned_miles  267200 non-null  object \n",
      " 10  engin_size    266191 non-null  object \n",
      " 11  gearbox       268088 non-null  object \n",
      " 12  fuel_type     267846 non-null  object \n",
      " 13  price         268255 non-null  object \n",
      " 14  seat_num      261781 non-null  float64\n",
      " 15  door_num      263702 non-null  float64\n",
      "dtypes: float64(3), int64(2), object(11)\n",
      "memory usage: 32.7+ MB\n"
     ]
    }
   ],
   "source": [
    "car_data.info()"
   ]
  },
  {
   "cell_type": "code",
   "execution_count": 5,
   "id": "21218d7d",
   "metadata": {},
   "outputs": [
    {
     "data": {
      "text/plain": [
       "(268255, 16)"
      ]
     },
     "execution_count": 5,
     "metadata": {},
     "output_type": "execute_result"
    }
   ],
   "source": [
    "car_data.shape"
   ]
  },
  {
   "cell_type": "markdown",
   "id": "a81f4f54",
   "metadata": {},
   "source": [
    "From the above we can see that our dataset consists of 16 columns and 268255 rows. Furthermore, we can see that we have 11 attributes of type *object*, 3 attributes of type *float64*, and 2 attributes of type *int64*. Straightaway we can drop columns **genmodel_id**, **adv_id**."
   ]
  },
  {
   "cell_type": "code",
   "execution_count": 6,
   "id": "12ab8a09",
   "metadata": {},
   "outputs": [],
   "source": [
    "car_data = car_data.drop(columns=[\"genmodel_id\", \"adv_id\"])"
   ]
  },
  {
   "cell_type": "markdown",
   "id": "c8f995b1",
   "metadata": {},
   "source": [
    "In a few cases, it seems that there has been a conversion issue while reading from the CSV file, as attributes such as **price** and **runned_miles** should be of numerical type instead of type *object*. Also, the *engine_size* attribute should be of numerical type, however in this case the automatic conversion to *object* type is due to the letter \"L\" appending the engine size in liters. We will fix these issues now. <br><br>\n",
    "\n",
    "First let's remove the appending \"L\" from the **engin_size** column and convert it to a float."
   ]
  },
  {
   "cell_type": "code",
   "execution_count": 7,
   "id": "ae5ef02c",
   "metadata": {},
   "outputs": [],
   "source": [
    "car_data[\"engin_size\"] = car_data[\"engin_size\"].str.rstrip('L').astype(float)"
   ]
  },
  {
   "cell_type": "markdown",
   "id": "e9527192",
   "metadata": {},
   "source": [
    "Now let's take care of the two other issues. After taking a closer look at the values in the **price** column, we can see that there are entries with value of \"Uknown\". This is the reason why the automatic conversion did not work. We will fix it now."
   ]
  },
  {
   "cell_type": "code",
   "execution_count": 8,
   "id": "6cd66c1a",
   "metadata": {},
   "outputs": [],
   "source": [
    "car_data[\"price\"] = pd.to_numeric(car_data[\"price\"], errors='coerce')"
   ]
  },
  {
   "cell_type": "markdown",
   "id": "c4dd8bfc",
   "metadata": {},
   "source": [
    "The **runned_miles** column seems to have empty entries, hence to fix it we will repeat the same procedure as above:"
   ]
  },
  {
   "cell_type": "code",
   "execution_count": 9,
   "id": "66c32962",
   "metadata": {
    "scrolled": false
   },
   "outputs": [],
   "source": [
    "car_data[\"runned_miles\"] = pd.to_numeric(car_data[\"runned_miles\"], errors='coerce')"
   ]
  },
  {
   "cell_type": "markdown",
   "id": "c66b0aa9",
   "metadata": {},
   "source": [
    "Let's now examine the summary of our dataset again."
   ]
  },
  {
   "cell_type": "code",
   "execution_count": 14,
   "id": "f04b700e",
   "metadata": {},
   "outputs": [
    {
     "name": "stdout",
     "output_type": "stream",
     "text": [
      "<class 'pandas.core.frame.DataFrame'>\n",
      "RangeIndex: 268255 entries, 0 to 268254\n",
      "Data columns (total 14 columns):\n",
      " #   Column        Non-Null Count   Dtype  \n",
      "---  ------        --------------   -----  \n",
      " 0   maker         268255 non-null  object \n",
      " 1   genmodel      268255 non-null  object \n",
      " 2   adv_year      268255 non-null  int64  \n",
      " 3   adv_month     268255 non-null  int64  \n",
      " 4   color         246380 non-null  object \n",
      " 5   reg_year      268248 non-null  float64\n",
      " 6   bodytype      267301 non-null  object \n",
      " 7   runned_miles  266942 non-null  float64\n",
      " 8   engin_size    266191 non-null  float64\n",
      " 9   gearbox       268088 non-null  object \n",
      " 10  fuel_type     267846 non-null  object \n",
      " 11  price         267110 non-null  float64\n",
      " 12  seat_num      261781 non-null  float64\n",
      " 13  door_num      263702 non-null  float64\n",
      "dtypes: float64(6), int64(2), object(6)\n",
      "memory usage: 28.7+ MB\n"
     ]
    }
   ],
   "source": [
    "car_data.info()"
   ]
  },
  {
   "cell_type": "markdown",
   "id": "281a2a9e",
   "metadata": {},
   "source": [
    "Now all the attributes that are numerical have a numerical data type. <br><br>\n",
    "\n",
    "As a next step, let's examine the null values in each column."
   ]
  },
  {
   "cell_type": "code",
   "execution_count": 16,
   "id": "3e943511",
   "metadata": {},
   "outputs": [
    {
     "data": {
      "text/plain": [
       "maker               0\n",
       "genmodel            0\n",
       "adv_year            0\n",
       "adv_month           0\n",
       "color           21875\n",
       "reg_year            7\n",
       "bodytype          954\n",
       "runned_miles     1313\n",
       "engin_size       2064\n",
       "gearbox           167\n",
       "fuel_type         409\n",
       "price            1145\n",
       "seat_num         6474\n",
       "door_num         4553\n",
       "dtype: int64"
      ]
     },
     "execution_count": 16,
     "metadata": {},
     "output_type": "execute_result"
    }
   ],
   "source": [
    "car_data.isnull().sum()"
   ]
  },
  {
   "cell_type": "markdown",
   "id": "a8cefb26",
   "metadata": {},
   "source": [
    "We can see that a majority of attributes has missing values. We will have to take care of it later. <br><br>\n",
    "\n",
    "Last but not least let's examine a summary of the numerical attributes."
   ]
  },
  {
   "cell_type": "code",
   "execution_count": 17,
   "id": "091f0731",
   "metadata": {},
   "outputs": [
    {
     "data": {
      "text/html": [
       "<div>\n",
       "<style scoped>\n",
       "    .dataframe tbody tr th:only-of-type {\n",
       "        vertical-align: middle;\n",
       "    }\n",
       "\n",
       "    .dataframe tbody tr th {\n",
       "        vertical-align: top;\n",
       "    }\n",
       "\n",
       "    .dataframe thead th {\n",
       "        text-align: right;\n",
       "    }\n",
       "</style>\n",
       "<table border=\"1\" class=\"dataframe\">\n",
       "  <thead>\n",
       "    <tr style=\"text-align: right;\">\n",
       "      <th></th>\n",
       "      <th>adv_year</th>\n",
       "      <th>adv_month</th>\n",
       "      <th>reg_year</th>\n",
       "      <th>runned_miles</th>\n",
       "      <th>engin_size</th>\n",
       "      <th>price</th>\n",
       "      <th>seat_num</th>\n",
       "      <th>door_num</th>\n",
       "    </tr>\n",
       "  </thead>\n",
       "  <tbody>\n",
       "    <tr>\n",
       "      <th>count</th>\n",
       "      <td>268255.000000</td>\n",
       "      <td>268255.000000</td>\n",
       "      <td>268248.000000</td>\n",
       "      <td>2.669420e+05</td>\n",
       "      <td>266191.000000</td>\n",
       "      <td>2.671100e+05</td>\n",
       "      <td>261781.000000</td>\n",
       "      <td>263702.000000</td>\n",
       "    </tr>\n",
       "    <tr>\n",
       "      <th>mean</th>\n",
       "      <td>2018.127778</td>\n",
       "      <td>5.626143</td>\n",
       "      <td>2012.708430</td>\n",
       "      <td>4.816993e+04</td>\n",
       "      <td>1.963554</td>\n",
       "      <td>1.475626e+04</td>\n",
       "      <td>4.904306</td>\n",
       "      <td>4.371594</td>\n",
       "    </tr>\n",
       "    <tr>\n",
       "      <th>std</th>\n",
       "      <td>0.747476</td>\n",
       "      <td>2.091577</td>\n",
       "      <td>4.465705</td>\n",
       "      <td>4.184823e+04</td>\n",
       "      <td>9.362173</td>\n",
       "      <td>3.232091e+04</td>\n",
       "      <td>0.877934</td>\n",
       "      <td>1.009339</td>\n",
       "    </tr>\n",
       "    <tr>\n",
       "      <th>min</th>\n",
       "      <td>2012.000000</td>\n",
       "      <td>1.000000</td>\n",
       "      <td>1900.000000</td>\n",
       "      <td>0.000000e+00</td>\n",
       "      <td>0.100000</td>\n",
       "      <td>1.000000e+02</td>\n",
       "      <td>1.000000</td>\n",
       "      <td>0.000000</td>\n",
       "    </tr>\n",
       "    <tr>\n",
       "      <th>25%</th>\n",
       "      <td>2018.000000</td>\n",
       "      <td>4.000000</td>\n",
       "      <td>2010.000000</td>\n",
       "      <td>1.416000e+04</td>\n",
       "      <td>1.400000</td>\n",
       "      <td>4.990000e+03</td>\n",
       "      <td>5.000000</td>\n",
       "      <td>4.000000</td>\n",
       "    </tr>\n",
       "    <tr>\n",
       "      <th>50%</th>\n",
       "      <td>2018.000000</td>\n",
       "      <td>5.000000</td>\n",
       "      <td>2014.000000</td>\n",
       "      <td>3.929650e+04</td>\n",
       "      <td>1.800000</td>\n",
       "      <td>9.299000e+03</td>\n",
       "      <td>5.000000</td>\n",
       "      <td>5.000000</td>\n",
       "    </tr>\n",
       "    <tr>\n",
       "      <th>75%</th>\n",
       "      <td>2018.000000</td>\n",
       "      <td>7.000000</td>\n",
       "      <td>2016.000000</td>\n",
       "      <td>7.500000e+04</td>\n",
       "      <td>2.000000</td>\n",
       "      <td>1.715000e+04</td>\n",
       "      <td>5.000000</td>\n",
       "      <td>5.000000</td>\n",
       "    </tr>\n",
       "    <tr>\n",
       "      <th>max</th>\n",
       "      <td>2021.000000</td>\n",
       "      <td>33.000000</td>\n",
       "      <td>2019.000000</td>\n",
       "      <td>6.363342e+06</td>\n",
       "      <td>3500.000000</td>\n",
       "      <td>9.999999e+06</td>\n",
       "      <td>17.000000</td>\n",
       "      <td>7.000000</td>\n",
       "    </tr>\n",
       "  </tbody>\n",
       "</table>\n",
       "</div>"
      ],
      "text/plain": [
       "            adv_year      adv_month       reg_year  runned_miles  \\\n",
       "count  268255.000000  268255.000000  268248.000000  2.669420e+05   \n",
       "mean     2018.127778       5.626143    2012.708430  4.816993e+04   \n",
       "std         0.747476       2.091577       4.465705  4.184823e+04   \n",
       "min      2012.000000       1.000000    1900.000000  0.000000e+00   \n",
       "25%      2018.000000       4.000000    2010.000000  1.416000e+04   \n",
       "50%      2018.000000       5.000000    2014.000000  3.929650e+04   \n",
       "75%      2018.000000       7.000000    2016.000000  7.500000e+04   \n",
       "max      2021.000000      33.000000    2019.000000  6.363342e+06   \n",
       "\n",
       "          engin_size         price       seat_num       door_num  \n",
       "count  266191.000000  2.671100e+05  261781.000000  263702.000000  \n",
       "mean        1.963554  1.475626e+04       4.904306       4.371594  \n",
       "std         9.362173  3.232091e+04       0.877934       1.009339  \n",
       "min         0.100000  1.000000e+02       1.000000       0.000000  \n",
       "25%         1.400000  4.990000e+03       5.000000       4.000000  \n",
       "50%         1.800000  9.299000e+03       5.000000       5.000000  \n",
       "75%         2.000000  1.715000e+04       5.000000       5.000000  \n",
       "max      3500.000000  9.999999e+06      17.000000       7.000000  "
      ]
     },
     "execution_count": 17,
     "metadata": {},
     "output_type": "execute_result"
    }
   ],
   "source": [
    "car_data.describe()"
   ]
  },
  {
   "cell_type": "markdown",
   "id": "b1ea9c98",
   "metadata": {},
   "source": [
    "### Visualisation of the dataset\n",
    "Now let's do some visualisations of our dataset to gain more insights into our data. We are going to start with a boxplot for all numerical attributes of our dataset."
   ]
  },
  {
   "cell_type": "code",
   "execution_count": 24,
   "id": "158e5598",
   "metadata": {},
   "outputs": [
    {
     "data": {
      "image/png": "[encoded data removed]",
      "text/plain": [
       "<Figure size 1200x2000 with 8 Axes>"
      ]
     },
     "metadata": {},
     "output_type": "display_data"
    }
   ],
   "source": [
    "numerical_columns = car_data.select_dtypes(include=['float64', 'int64'])\n",
    "\n",
    "num_columns = len(numerical_columns.columns)\n",
    "num_rows = (num_columns // 2) + (num_columns % 2)\n",
    "\n",
    "plt.figure(figsize=(12, 5 * num_rows))\n",
    "\n",
    "for i, column in enumerate(numerical_columns.columns, 1):\n",
    "    plt.subplot(num_rows, 2, i)\n",
    "    plt.boxplot(car_data[column].dropna())\n",
    "    plt.title(column)\n",
    "\n",
    "plt.tight_layout()\n",
    "plt.show()"
   ]
  },
  {
   "cell_type": "markdown",
   "id": "dd8ba110",
   "metadata": {},
   "source": [
    "Looking at the figures above, we can already see that we have some odd-looking outliers in **adv_month**, **price**, **engine_size**, and **seat_num**. As for the first three attributes they are definietly outliers as the numbers just don't make sense, the last one actually does not have any outliers. It turns out that the 17 seats belong to the Mercedes Sprinter Minibus so we are good with this one. However, we have to take care of the other outliers. <br><br>\n",
    "\n",
    "Another visualisation we can make use of is the scatter matrix, where we will be able to see if there are any promising correlations between the attributes. We will plot only a few of the attributes since plotting all of them would take up way too much space."
   ]
  },
  {
   "cell_type": "code",
   "execution_count": 25,
   "id": "ebd8778d",
   "metadata": {},
   "outputs": [
    {
     "data": {
      "text/plain": [
       "price           1.000000\n",
       "reg_year        0.233995\n",
       "adv_year        0.060807\n",
       "engin_size      0.030928\n",
       "adv_month      -0.025551\n",
       "door_num       -0.106559\n",
       "seat_num       -0.113511\n",
       "runned_miles   -0.232481\n",
       "Name: price, dtype: float64"
      ]
     },
     "execution_count": 25,
     "metadata": {},
     "output_type": "execute_result"
    }
   ],
   "source": [
    "corr_matrix = car_data.corr(numeric_only=True)\n",
    "corr_matrix[\"price\"].sort_values(ascending=False)"
   ]
  },
  {
   "cell_type": "markdown",
   "id": "72a6a988",
   "metadata": {},
   "source": [
    "### Extracting the test set"
   ]
  },
  {
   "cell_type": "code",
   "execution_count": null,
   "id": "88def0c3",
   "metadata": {},
   "outputs": [],
   "source": []
  }
 ],
 "metadata": {
  "kernelspec": {
   "display_name": "Python 3 (ipykernel)",
   "language": "python",
   "name": "python3"
  },
  "language_info": {
   "codemirror_mode": {
    "name": "ipython",
    "version": 3
   },
   "file_extension": ".py",
   "mimetype": "text/x-python",
   "name": "python",
   "nbconvert_exporter": "python",
   "pygments_lexer": "ipython3",
   "version": "3.11.4"
  }
 },
 "nbformat": 4,
 "nbformat_minor": 5
}
